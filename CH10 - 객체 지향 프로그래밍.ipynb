{
 "cells": [
  {
   "cell_type": "markdown",
   "metadata": {},
   "source": [
    "## 파이썬의 객체 지향 프로그래밍"
   ]
  },
  {
   "cell_type": "markdown",
   "metadata": {},
   "source": [
    "### 클래스 구현하기"
   ]
  },
  {
   "cell_type": "code",
   "execution_count": 1,
   "metadata": {},
   "outputs": [],
   "source": [
    "# 속성의 선언\n",
    "class SoccerPlayer(object):\n",
    "    def __init__(self, name, position, back_number):\n",
    "        self.name = name\n",
    "        self.position = position\n",
    "        self.back_number = back_number"
   ]
  },
  {
   "cell_type": "code",
   "execution_count": 2,
   "metadata": {},
   "outputs": [],
   "source": [
    "# 함수의 선언\n",
    "class SoccerPlayer(object):\n",
    "    def change_back_number(self, new_number):\n",
    "        print(\"선수의 등번호 변경: From %d to %d\" %(self.back_number, new_number))\n",
    "        self.back_number = new_number"
   ]
  },
  {
   "cell_type": "markdown",
   "metadata": {},
   "source": [
    "### 인스턴스 사용하기"
   ]
  },
  {
   "cell_type": "code",
   "execution_count": 3,
   "metadata": {},
   "outputs": [
    {
     "name": "stdout",
     "output_type": "stream",
     "text": [
      "현재 선수의 등번호는 :  10\n",
      "선수의 등번호 변경: From 10 to 5\n",
      "현재 선수의 등번호는 :  5\n"
     ]
    }
   ],
   "source": [
    "# 전체 SoccerPlayer 코드\n",
    "class SoccerPlayer(object):\n",
    "    def __init__(self, name, position, back_number):\n",
    "        self.name = name\n",
    "        self.position = position\n",
    "        self.back_number = back_number\n",
    "    def change_back_number(self, new_number):\n",
    "        print(\"선수의 등번호 변경: From %d to %d\" %(self.back_number, new_number))\n",
    "        self.back_number = new_number\n",
    "    def __str__(self):\n",
    "        return \"Hello, My name is %s. I play in %s in center.\" %(self.name, self.position)\n",
    "        \n",
    "# SoccerPlayer를 사용하는 instance 코드 \n",
    "jinhyun = SoccerPlayer(\"Jinhyun\", \"MF\", 10)\n",
    "\n",
    "print(\"현재 선수의 등번호는 : \", jinhyun.back_number)\n",
    "jinhyun.change_back_number(5)\n",
    "print(\"현재 선수의 등번호는 : \", jinhyun.back_number)"
   ]
  },
  {
   "cell_type": "markdown",
   "metadata": {},
   "source": [
    "### 클래스를 사용하는 이유"
   ]
  },
  {
   "cell_type": "code",
   "execution_count": 4,
   "metadata": {},
   "outputs": [
    {
     "name": "stdout",
     "output_type": "stream",
     "text": [
      "players:  [['Messi', 'MF', 10], ['Ramos', 'DF', 4], ['Ronaldo', 'CF', 7], ['Park', 'WF', 13], ['Buffon', 'GK', 1]]\n",
      "players[0]:  ['Messi', 'MF', 10]\n",
      "Hello, My name is Messi. I play in MF in center.\n"
     ]
    }
   ],
   "source": [
    "# 10-3 class\n",
    "# 데이터 \n",
    "names = [\"Messi\", \"Ramos\", \"Ronaldo\", \"Park\", \"Buffon\"]\n",
    "positions = [\"MF\", \"DF\", \"CF\", \"WF\", \"GK\"]\n",
    "numbers = [10, 4, 7, 13, 1]\n",
    "\n",
    "# 이차원 리스트\n",
    "players = [[name, position, number] for name, position, number in zip(names, positions, numbers)]\n",
    "print(\"players: \", players)\n",
    "print(\"players[0]: \", players[0])\n",
    "\n",
    "# 전체 SoccerPlayer 코드\n",
    "class SoccerPlayer(object):\n",
    "    def __init__(self, name, position, back_number):\n",
    "        self.name = name\n",
    "        self.position = position\n",
    "        self.back_number = back_number\n",
    "    def change_back_number(self, new_number):\n",
    "        print(\"선수의 등번호 변경: From %d to %d\" %(self.back_number, new_number))\n",
    "        self.back_number = new_number\n",
    "    def __str__(self):\n",
    "        return \"Hello, My name is %s. I play in %s in center.\" %(self.name, self.position)\n",
    "        \n",
    "\n",
    "# 클래스 - 인스턴스\n",
    "player_objects = [SoccerPlayer(name, position, number) for name, position, number in zip(names, positions, numbers)]\n",
    "print(player_objects[0])"
   ]
  },
  {
   "cell_type": "markdown",
   "metadata": {},
   "source": [
    "## 10.4 객체 지향 프로그래밍의 특징"
   ]
  },
  {
   "cell_type": "markdown",
   "metadata": {},
   "source": [
    "### 상속\n",
    "- 부모 클래스에 정의된 속성과 메서드를 자식 클래스가 물려받아 사용"
   ]
  },
  {
   "cell_type": "code",
   "execution_count": 5,
   "metadata": {},
   "outputs": [
    {
     "name": "stdout",
     "output_type": "stream",
     "text": [
      "Sungchul\n"
     ]
    }
   ],
   "source": [
    "class Person(object):\n",
    "    def __init__(self, name, age):\n",
    "        self.name = name\n",
    "        self.age = age\n",
    "        \n",
    "class Korean(Person):\n",
    "    pass\n",
    "\n",
    "first_korean = Korean(\"Sungchul\", 35)\n",
    "print(first_korean.name)"
   ]
  },
  {
   "cell_type": "code",
   "execution_count": 6,
   "metadata": {},
   "outputs": [],
   "source": [
    "# 10-4 inheritance1\n",
    "class Person(object): # 부모 클래스 Person 선언\n",
    "    def __init__(self, nmae, age, gender):\n",
    "        self.name = name\n",
    "        self.age = age\n",
    "        self.gender = gender\n",
    "        \n",
    "    def about_me(self): # 메서드 선언\n",
    "        print(\"저의 이름은\", self.name, \"이고요, 제 나이는\", str(self.age), \"살 입니다.\")\n",
    "        "
   ]
  },
  {
   "cell_type": "code",
   "execution_count": 7,
   "metadata": {},
   "outputs": [],
   "source": [
    "# 10-5 inheritance2\n",
    "class Employee(Person): #부모 클래스 Person으로부터 상속\n",
    "    def __init__(self, name, age, gender, salary, hire_date):\n",
    "        super().__init__(name, age, gender) #부모 객체 사용\n",
    "        self.salary = salary\n",
    "        self.hire_date = hire_date # 속성값 추가\n",
    "        \n",
    "    def do_work(self): # 새로운 메서드 추가\n",
    "        print(\"열심히 일을 한다.\")\n",
    "        \n",
    "    def about_me(self): #부모 클래스 함수 재정의\n",
    "        super().about_me() #부모 클래스 함수 사용\n",
    "        print(\"제 급여는\", self.salary, \"원이고, 제 입사일은\", self.hire_date, \"입니다.\")\n",
    "        "
   ]
  },
  {
   "cell_type": "markdown",
   "metadata": {},
   "source": [
    "### 다형성\n",
    "- 같은 이름의 메서드가 다른 기능을 할 수 있도록 하는 것"
   ]
  },
  {
   "cell_type": "code",
   "execution_count": 8,
   "metadata": {},
   "outputs": [
    {
     "name": "stdout",
     "output_type": "stream",
     "text": [
      "Missy: Meow!\n",
      "Mr.Mistoffelees: Meow!\n",
      "Lassie: Woof! Woof!\n"
     ]
    }
   ],
   "source": [
    "# 10-7 polymorphism2\n",
    "class Animal:\n",
    "    def __init__(self, name):\n",
    "        self.name = name\n",
    "    def talk(self):\n",
    "        raise NotImplementedError(\"Subclass must implement abstract method\")\n",
    "\n",
    "class Cat(Animal):\n",
    "    def talk(self):\n",
    "        return 'Meow!'\n",
    "\n",
    "class Dog(Animal):\n",
    "    def talk(self):\n",
    "        return 'Woof! Woof!'\n",
    "    \n",
    "animals = [Cat('Missy'), Cat('Mr.Mistoffelees'), Dog('Lassie')]\n",
    "\n",
    "for animal in animals:\n",
    "    print(animal.name + ': ' + animal.talk())"
   ]
  },
  {
   "cell_type": "markdown",
   "metadata": {},
   "source": [
    "### 가시성\n",
    "- 객체의 정보를 볼 수 있는 레벨을 조절하여 객체의 정보 접근을 숨기는 것 (캡슐화, 정보 은닉)"
   ]
  },
  {
   "cell_type": "markdown",
   "metadata": {},
   "source": [
    "- Product 객체를 Inventory 객체에 추가\n",
    "- Inventory 에는 오직 Product 객체만 들어감\n",
    "- Inventory에 Product가 몇 개인지 확인 필요\n",
    "- Inventory에 Product items는 직접 접근 불가"
   ]
  },
  {
   "cell_type": "code",
   "execution_count": 9,
   "metadata": {},
   "outputs": [
    {
     "name": "stdout",
     "output_type": "stream",
     "text": [
      "new item added\n",
      "new item added\n"
     ]
    },
    {
     "ename": "AttributeError",
     "evalue": "'Inventory' object has no attribute '__items'",
     "output_type": "error",
     "traceback": [
      "\u001b[1;31m---------------------------------------------------------------------------\u001b[0m",
      "\u001b[1;31mAttributeError\u001b[0m                            Traceback (most recent call last)",
      "\u001b[1;32m<ipython-input-9-3dca460d457e>\u001b[0m in \u001b[0;36m<module>\u001b[1;34m\u001b[0m\n\u001b[0;32m     19\u001b[0m \u001b[0mmy_inventory\u001b[0m\u001b[1;33m.\u001b[0m\u001b[0madd_new_item\u001b[0m\u001b[1;33m(\u001b[0m\u001b[0mProduct\u001b[0m\u001b[1;33m(\u001b[0m\u001b[1;33m)\u001b[0m\u001b[1;33m)\u001b[0m\u001b[1;33m\u001b[0m\u001b[1;33m\u001b[0m\u001b[0m\n\u001b[0;32m     20\u001b[0m \u001b[1;33m\u001b[0m\u001b[0m\n\u001b[1;32m---> 21\u001b[1;33m \u001b[0mmy_inventory\u001b[0m\u001b[1;33m.\u001b[0m\u001b[0m__items\u001b[0m\u001b[1;33m\u001b[0m\u001b[1;33m\u001b[0m\u001b[0m\n\u001b[0m",
      "\u001b[1;31mAttributeError\u001b[0m: 'Inventory' object has no attribute '__items'"
     ]
    }
   ],
   "source": [
    "# 10-8 visibility1\n",
    "class Product(object):\n",
    "    pass\n",
    "\n",
    "class Inventory(object):\n",
    "    def __init__(self):\n",
    "        self.__items = []\n",
    "    def add_new_item(self, product):\n",
    "        if type(product) == Product:\n",
    "            self.__items.append(product)\n",
    "            print(\"new item added\")\n",
    "        else:\n",
    "            raise ValueError(\"Invalid Item\")\n",
    "    def get_number_of_items(self):\n",
    "        return len(self.__items)\n",
    "    \n",
    "my_inventory = Inventory()\n",
    "my_inventory.add_new_item(Product())\n",
    "my_inventory.add_new_item(Product())\n",
    "\n",
    "my_inventory.__items"
   ]
  },
  {
   "cell_type": "code",
   "execution_count": 10,
   "metadata": {},
   "outputs": [],
   "source": [
    "# 10-8 visibility2\n",
    "class Product(object):\n",
    "    pass\n",
    "\n",
    "class Inventory(object):\n",
    "    def __init__(self):\n",
    "        self.__items = [] # private 변수로 선언 (타인이 접근 못함)\n",
    "    \n",
    "    @property\n",
    "    def items(self):\n",
    "        return self.__items\n",
    "    \n",
    "    def add_new_item(self, product):\n",
    "        if type(product) == Product:\n",
    "            self.__items.append(product)\n",
    "            print(\"new item added\")\n",
    "        else:\n",
    "            raise ValueError(\"Invalid Item\")\n",
    "    def get_number_of_items(self):\n",
    "        return len(self.__items)\n",
    "    \n",
    "my_inventory = Inventory()\n",
    "items = my_inventory.items\n",
    "items.append(Product())"
   ]
  },
  {
   "cell_type": "markdown",
   "metadata": {},
   "source": [
    "## 가시성 예제"
   ]
  },
  {
   "cell_type": "code",
   "execution_count": 11,
   "metadata": {},
   "outputs": [],
   "source": [
    "class  Box(object):\n",
    "    def __init__(self, name):\n",
    "        self.name = name\n",
    "        self.__items = []\n",
    "        \n",
    "    def add_item(self, item):\n",
    "        self.__items.append(item)\n",
    "        print(\"아이템 추가\")\n",
    "    \n",
    "    def get_number_of_items(self):\n",
    "        return len(self.__items)"
   ]
  },
  {
   "cell_type": "code",
   "execution_count": 12,
   "metadata": {},
   "outputs": [
    {
     "name": "stdout",
     "output_type": "stream",
     "text": [
      "아이템 추가\n",
      "아이템 추가\n",
      "Box\n",
      "2\n",
      "<__main__.Box object at 0x000002AD0D7FD220> [<__main__.Product object at 0x000002AD0D808AF0>]\n"
     ]
    }
   ],
   "source": [
    "box = Box(\"Box\")\n",
    "box.add_item(\"Item1\")\n",
    "box.add_item(\"Item2\")\n",
    "print(box.name)\n",
    "print(box.get_number_of_items())\n",
    "print(box, items)"
   ]
  },
  {
   "cell_type": "markdown",
   "metadata": {},
   "source": [
    "## 클래스 상속, 메소드 오버라이딩 예제\n",
    "- Vehicle 클래스를 상속받아 Car 클래스와 Truck 클래스 생성\n",
    "- Car 클래스는 "
   ]
  },
  {
   "cell_type": "code",
   "execution_count": 13,
   "metadata": {},
   "outputs": [],
   "source": [
    "class Vehicle(object):\n",
    "    speed = 0\n",
    "    def up_speed(self, value):\n",
    "        self.speed += value\n",
    "    def down_speed(self, value):\n",
    "        self.speed -= value\n",
    "    def print_speed(self):\n",
    "        print(\"Speed:\", str(self.speed))\n",
    "        \n",
    "class Car(Vehicle):\n",
    "    def up_speed(self, value):\n",
    "        self.speed += value\n",
    "        if self.speed > 240: self.speed=240\n",
    "            \n",
    "class Truck(Vehicle):\n",
    "    def up_speed(self, value):\n",
    "        self.speed += value\n",
    "        if self.speed > 180: self.speed=180"
   ]
  },
  {
   "cell_type": "code",
   "execution_count": 14,
   "metadata": {},
   "outputs": [
    {
     "name": "stdout",
     "output_type": "stream",
     "text": [
      "Speed: 240\n",
      "Speed: 180\n"
     ]
    }
   ],
   "source": [
    "car = Car()\n",
    "car.up_speed(300)\n",
    "car.print_speed()\n",
    "\n",
    "truck = Truck()\n",
    "truck.up_speed(200)\n",
    "truck.print_speed()"
   ]
  },
  {
   "cell_type": "markdown",
   "metadata": {},
   "source": [
    "## 연습문제"
   ]
  },
  {
   "cell_type": "code",
   "execution_count": 15,
   "metadata": {},
   "outputs": [
    {
     "name": "stdout",
     "output_type": "stream",
     "text": [
      "Korean\n",
      "English\n",
      "I'm Groot!\n"
     ]
    }
   ],
   "source": [
    "# 2\n",
    "class Person(object):\n",
    "    def __init__(self, name):\n",
    "        self.name = name\n",
    "    def language(self):\n",
    "        pass\n",
    "\n",
    "class Earthling(Person):\n",
    "    def language(self, language):\n",
    "        return language\n",
    "\n",
    "class Groot(Person):\n",
    "    def language(self, language):\n",
    "        return \"I'm Groot!\"\n",
    "\n",
    "name = ['Gachon', 'Dr.Strange', 'Groot']\n",
    "country = ['Korea', 'USA', 'Galaxy']\n",
    "language = ['Korean', 'English', 'Groot']\n",
    "\n",
    "for idx, name in enumerate(name):\n",
    "    if country[idx].upper() != 'GALAXY':\n",
    "        person = Earthling(name)\n",
    "        print(person.language(language[idx]))\n",
    "    else:\n",
    "        groot = Groot(name)\n",
    "        print(groot.language(language[idx]))"
   ]
  },
  {
   "cell_type": "code",
   "execution_count": 16,
   "metadata": {},
   "outputs": [],
   "source": [
    "# 3\n",
    "# factorial_calculator.py\n",
    "def factorial(n):\n",
    "    if n==0:\n",
    "        return 1\n",
    "    else:\n",
    "        return (n*factorial(n-1))"
   ]
  },
  {
   "cell_type": "code",
   "execution_count": 17,
   "metadata": {},
   "outputs": [
    {
     "ename": "NameError",
     "evalue": "name 'factorial_calculator' is not defined",
     "output_type": "error",
     "traceback": [
      "\u001b[1;31m---------------------------------------------------------------------------\u001b[0m",
      "\u001b[1;31mNameError\u001b[0m                                 Traceback (most recent call last)",
      "\u001b[1;32m<ipython-input-17-b20f3e3d5e6e>\u001b[0m in \u001b[0;36m<module>\u001b[1;34m\u001b[0m\n\u001b[0;32m      1\u001b[0m \u001b[1;32mfrom\u001b[0m \u001b[0mfactorial_calculator\u001b[0m \u001b[1;32mimport\u001b[0m \u001b[0mfactorial\u001b[0m\u001b[1;33m\u001b[0m\u001b[1;33m\u001b[0m\u001b[0m\n\u001b[1;32m----> 2\u001b[1;33m \u001b[0mprint\u001b[0m\u001b[1;33m(\u001b[0m\u001b[0mfactorial_calculator\u001b[0m\u001b[1;33m.\u001b[0m\u001b[0mfactorial\u001b[0m\u001b[1;33m(\u001b[0m\u001b[1;36m6\u001b[0m\u001b[1;33m)\u001b[0m\u001b[1;33m)\u001b[0m\u001b[1;33m\u001b[0m\u001b[1;33m\u001b[0m\u001b[0m\n\u001b[0m",
      "\u001b[1;31mNameError\u001b[0m: name 'factorial_calculator' is not defined"
     ]
    }
   ],
   "source": [
    "from factorial_calculator import factorial\n",
    "print(factorial_calculator.factorial(6))"
   ]
  },
  {
   "cell_type": "code",
   "execution_count": 18,
   "metadata": {},
   "outputs": [
    {
     "name": "stdout",
     "output_type": "stream",
     "text": [
      "현재 선수의 등번호는:  10\n",
      "현재 선수의 등번호는:  5\n"
     ]
    }
   ],
   "source": [
    "# 4\n",
    "class SoccerPlayer(object):\n",
    "    def __init__(self, name, position, back_number):\n",
    "        self.name = name\n",
    "        self.position = position\n",
    "        self.back_number = back_number\n",
    "    def change_back_number(self, new_number):\n",
    "        self.back_number = new_number\n",
    "        \n",
    "jinhyun = SoccerPlayer(\"jinhyun\", \"MF\", 10)\n",
    "print(\"현재 선수의 등번호는: \", jinhyun.back_number)\n",
    "jinhyun.change_back_number(5)\n",
    "print(\"현재 선수의 등번호는: \", jinhyun.back_number)"
   ]
  },
  {
   "cell_type": "code",
   "execution_count": 19,
   "metadata": {},
   "outputs": [],
   "source": [
    "# 5\n",
    "class Class(object):\n",
    "    def __init__(self, name, score):\n",
    "        self.name = name\n",
    "        self.score = score\n",
    "\n",
    "class Math(Class):\n",
    "    def say():\n",
    "        print(\"힘내\")\n",
    "\n",
    "# 객체 지향 프로그램의 어떤 특징?"
   ]
  },
  {
   "cell_type": "code",
   "execution_count": 20,
   "metadata": {},
   "outputs": [
    {
     "name": "stdout",
     "output_type": "stream",
     "text": [
      "My name is Thanos and my weapon in infinity gauntlet.\n"
     ]
    }
   ],
   "source": [
    "# 7\n",
    "class Marvel(object):\n",
    "    def __init__(self, name, characteristic):\n",
    "        self.name = name\n",
    "        self.characteristic = characteristic\n",
    "    def __str__(self):\n",
    "        return \"My name is {0} and my weapon in {1}.\".format(self.name, self.characteristic)\n",
    "    \n",
    "class Villain(Marvel):\n",
    "    pass\n",
    "\n",
    "first_villain = Villain(\"Thanos\", \"infinity gauntlet\")\n",
    "print(first_villain)"
   ]
  },
  {
   "cell_type": "code",
   "execution_count": 21,
   "metadata": {},
   "outputs": [
    {
     "name": "stdout",
     "output_type": "stream",
     "text": [
      "LG에서 만든2019년형 32인치 TV\n",
      "Samsung에서 만든2018년형 15인치 노트북\n"
     ]
    }
   ],
   "source": [
    "# 8\n",
    "class TV(object):\n",
    "    def __init__(self, size, year, company):\n",
    "        self.size = size\n",
    "        self.year = year\n",
    "        self.company = company\n",
    "    def describe(self):\n",
    "        print(self.company + \"에서 만든\" + self.year + \"년형 \" + self.size + \"인치 TV\")\n",
    "        \n",
    "class Laptop(TV):\n",
    "    def describe(self):\n",
    "        print(self.company + \"에서 만든\" + self.year + \"년형 \" + self.size + \"인치 노트북\")\n",
    "        \n",
    "LG_TV = TV(\"32\", \"2019\", \"LG\")\n",
    "LG_TV.describe()\n",
    "\n",
    "samsung_microwave = Laptop(\"15\", \"2018\", \"Samsung\")\n",
    "samsung_microwave.describe()\n",
    "\n",
    "# 위 코드에서 Laptop 클래스는 TV 클래스를 상속하였다. 또한, 같은 이름의 내부 로직을 다르게 작성했으므로 다형성의 사례로도 볼 수 있다."
   ]
  },
  {
   "cell_type": "code",
   "execution_count": 22,
   "metadata": {},
   "outputs": [
    {
     "name": "stdout",
     "output_type": "stream",
     "text": [
      "이름 : John\n",
      "나이 : 22\n",
      "직위 : 연구원\n",
      "저는 가천대학교 연구소 연구원 John 입니다. 나이는 22 입니다.\n",
      "저는 학사 입니다.\n",
      "==================================================\n",
      "이름 : Tedd\n",
      "나이 : 40\n",
      "직위 : 소장\n",
      "저는 가천대학교 연구소 소장 Tedd 입니다. 나이는 40 입니다.\n",
      "저는 박사 입니다.\n"
     ]
    }
   ],
   "source": [
    "# 9\n",
    "class Person:\n",
    "    def __init__(self, name, age, position):\n",
    "        self.Name = name\n",
    "        self.Age = age\n",
    "        self.Position = position\n",
    "    def show_info(self):\n",
    "        print('이름 : {}'.format(self.Name))\n",
    "        print('나이 : {}'.format(self.Age))\n",
    "        print('직위 : {}'.format(self.Position))\n",
    "        print(\"저는 가천대학교 연구소 {0} {1} 입니다. 나이는 {2} 입니다.\"\n",
    "             .format(self.Position, self.Name, self.Age))\n",
    "        \n",
    "class Researcher(Person):\n",
    "    def __init__(self, name, age, position, degree):\n",
    "        Person.__init__(self, name, age, position)\n",
    "        self.Degree = degree\n",
    "    def show_info(self):\n",
    "        Person.show_info(self)\n",
    "        print(\"저는 {} 입니다.\".format(self.Degree))\n",
    "\n",
    "if __name__ == '__main__':\n",
    "    researcher_john = Researcher(\"John\", \"22\", \"연구원\", \"학사\")\n",
    "    researcher_tedd = Researcher(\"Tedd\", \"40\", \"소장\", \"박사\")\n",
    "    researcher_john.show_info()\n",
    "    print(\"=\"*50)\n",
    "    researcher_tedd.show_info()"
   ]
  },
  {
   "cell_type": "code",
   "execution_count": 23,
   "metadata": {},
   "outputs": [
    {
     "name": "stdout",
     "output_type": "stream",
     "text": [
      "None F 72.0 F\n"
     ]
    }
   ],
   "source": [
    "# 10\n",
    "class Score:\n",
    "    def __init__(self, student):\n",
    "        tmp = student.split(\",\")\n",
    "        self.name = tmp[0]\n",
    "        self.midterm = int(tmp[1])\n",
    "        self.final = int(tmp[2])\n",
    "        self.assignment = int(tmp[3])\n",
    "        self.score = None\n",
    "        self.grade = None\n",
    "        \n",
    "    def total_score(self):\n",
    "        test_score = ((self.midterm + self.final)/2)*0.8\n",
    "        \n",
    "        if self.assignment >= 3:\n",
    "            assign_score = 20\n",
    "        elif self.assignment >= 2:\n",
    "            assign_score = 10\n",
    "        elif self.assignment >= 1:\n",
    "            assign_score = 5\n",
    "        else:\n",
    "            assign_score = 0\n",
    "        \n",
    "        self.score = test_score + assign_score\n",
    "        \n",
    "    def total_grade(self):\n",
    "        if self.assignment == 0:\n",
    "            grade = \"F\"\n",
    "        elif self.score >= 90:\n",
    "            grade = \"A\"\n",
    "        elif self.score >= 70:\n",
    "            grade = \"B\"\n",
    "        elif self.score >= 60:\n",
    "            grade = \"C\"\n",
    "        else:\n",
    "            grade = \"F\"\n",
    "            \n",
    "        self.grade = grade\n",
    "        return grade \n",
    "    \n",
    "student_john = Score(\"john,90,90,0\")\n",
    "aa = student_john.total_score()\n",
    "bb = student_john.total_grade()\n",
    "print(aa, bb, student_john.score, student_john.grade)\n",
    "\n",
    "            "
   ]
  },
  {
   "cell_type": "code",
   "execution_count": 24,
   "metadata": {},
   "outputs": [
    {
     "name": "stdout",
     "output_type": "stream",
     "text": [
      "아이스크림을 레인보우 샤베트에서 바람과 함께 사라지다로 변경해주세요.\n",
      "아이스크림 맛을 바람과 함께 사라지다로 변경해드렸어요.\n"
     ]
    }
   ],
   "source": [
    "# 11\n",
    "class IceCream(object):\n",
    "    def __init__(self, flavor):\n",
    "        self.flavor = flavor\n",
    "    def change_flavor(self, new_flavor):\n",
    "        print('아이스크림을 %s에서 %s로 변경해주세요.' %(self.flavor, new_flavor))\n",
    "        self.flavor = new_flavor\n",
    "        print('아이스크림 맛을 %s로 변경해드렸어요.' %self.flavor)\n",
    "\n",
    "ice_cream = IceCream('레인보우 샤베트')\n",
    "ice_cream.change_flavor('바람과 함께 사라지다')"
   ]
  },
  {
   "cell_type": "code",
   "execution_count": 25,
   "metadata": {},
   "outputs": [
    {
     "name": "stdout",
     "output_type": "stream",
     "text": [
      "Mineral:72\n"
     ]
    }
   ],
   "source": [
    "# 12\n",
    "class Terran(object):\n",
    "    def __init__(self, mineral):\n",
    "        self.scv = 4\n",
    "        self.marine = 0\n",
    "        self.medic = 0\n",
    "        self.mineral = mineral\n",
    "    def command(self, SCV=False):\n",
    "        self.mineral += 8*self.scv\n",
    "        if SCV:\n",
    "            self.scv += 1\n",
    "            self.mineral -= 10\n",
    "    def barrack(self, Marine=False, Medic=False):\n",
    "        self.mineral += 8*self.scv\n",
    "        if Marine:\n",
    "            self.marine += 1\n",
    "            self.mineral -= 15\n",
    "        if Medic:\n",
    "            self.medic += 1\n",
    "            self.mineral -= 25\n",
    "    def check_source(self):\n",
    "        print(\"Mineral:\"+str(self.mineral))\n",
    "        \n",
    "User = Terran(50)\n",
    "User.command(True)\n",
    "User.barrack(True, True)\n",
    "User.check_source()"
   ]
  }
 ],
 "metadata": {
  "kernelspec": {
   "display_name": "Python 3",
   "language": "python",
   "name": "python3"
  },
  "language_info": {
   "codemirror_mode": {
    "name": "ipython",
    "version": 3
   },
   "file_extension": ".py",
   "mimetype": "text/x-python",
   "name": "python",
   "nbconvert_exporter": "python",
   "pygments_lexer": "ipython3",
   "version": "3.8.5"
  }
 },
 "nbformat": 4,
 "nbformat_minor": 4
}
