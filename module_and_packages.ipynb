{
 "cells": [
  {
   "cell_type": "markdown",
   "metadata": {},
   "source": [
    "# 모듈(Module)\n",
    "\n",
    "* 함수, 변수 그리고 클래스의 집합\n",
    "* 다른 파이썬 프로그램에서 가져와 사용할 수 있는 파이썬 파일\n",
    "* 파이썬에는 다른 사람들이 만들어 놓은 모듈이 굉장히 많음\n",
    "* 사용자가 모듈은 직접 만들어서 사용할 수도 있음\n",
    "\n",
    "## 모듈의 종류\n",
    "\n",
    "* 사용자 정의 모듈: 사용자가 직접 정의해서 사용하는 모듈\n",
    "* 내장 모듈: 파이썬에서 기본 제공하는 모듈\n",
    "* 서드 파티 모듈: 외부에서 제공하는 모듈\n",
    "  + 파이썬 표준 모듈에 모든 기능이 있지 않음\n",
    "  + 서드 파티 모듈을 이용해 고급 프로그래밍 가능\n",
    "  + 게임 개발을 위한 pygame, 데이터베이스 기능의 SQLAlchemy, 데이터 분석 기능의 NumPy\n",
    "\n",
    "## 사용자 정의 모듈\n",
    "\n",
    "* 사용자가 사용할 모듈을 직접 정의\n",
    "* 모듈 이름으로 파일명을 사용"
   ]
  },
  {
   "cell_type": "code",
   "execution_count": 1,
   "metadata": {},
   "outputs": [
    {
     "name": "stdout",
     "output_type": "stream",
     "text": [
      "Overwriting fah_converter.py\n"
     ]
    }
   ],
   "source": [
    "%%writefile fah_converter.py\n",
    "def convert_c_to_f(celcius_value):\n",
    "    return celcius_value * 9.0 / 5 + 32  ## celsius"
   ]
  },
  {
   "cell_type": "code",
   "execution_count": 2,
   "metadata": {
    "scrolled": true
   },
   "outputs": [
    {
     "name": "stdout",
     "output_type": "stream",
     "text": [
      " C 드라이브의 볼륨에는 이름이 없습니다.\n",
      " 볼륨 일련 번호: 92F2-1961\n",
      "\n",
      " C:\\Users\\syj47\\OneDrive - 한국산업기술대학교\\3-2\\프밍 디렉터리\n",
      "\n",
      "2021-12-10  오전 08:17    <DIR>          .\n",
      "2021-11-24  오전 09:39    <DIR>          ..\n",
      "2021-12-10  오전 07:15    <DIR>          .ipynb_checkpoints\n",
      "2021-12-10  오전 08:17    <DIR>          __pycache__\n",
      "2021-11-19  오후 01:53               228 a.npy\n",
      "2021-11-19  오후 01:53               706 ab.npz\n",
      "2021-11-19  오후 01:53               630 b.csv\n",
      "2021-11-19  오전 10:34            12,266 built-in module.ipynb\n",
      "2021-12-10  오전 08:17               178 calculator.py\n",
      "2021-11-19  오후 01:48               343 car.csv\n",
      "2021-12-10  오전 08:00            26,332 CH10 - 객체 지향 프로그래밍.ipynb\n",
      "2021-10-20  오전 02:42            17,727 CH2-변수와 자료형.ipynb\n",
      "2021-10-20  오후 05:50            29,785 CH3-화면 입출력과 리스트.ipynb\n",
      "2021-10-20  오후 11:19            23,715 CH4 - 조건문과 반복문.ipynb\n",
      "2021-10-21  오후 06:03            23,515 CH5 - 함수.ipynb\n",
      "2021-10-22  오전 11:57             9,569 CH6 - 문자열.ipynb\n",
      "2021-12-10  오전 06:32            45,927 CH7 - 자료구조.ipynb\n",
      "2021-12-10  오전 06:32            16,889 CH8 - 파이썬 스타일 코드 I.ipynb\n",
      "2021-12-10  오전 06:44            22,531 CH9 - 파이썬 스타일 코드 II.ipynb\n",
      "2021-12-10  오전 07:15               117 factorial_calculator.py\n",
      "2021-12-10  오전 08:17                89 fah_converter.py\n",
      "2021-11-25  오후 03:55             9,475 HW3.NumPy.ipynb\n",
      "2021-12-02  오후 04:34            43,217 HW4.Pandas.ipynb\n",
      "2021-12-10  오전 07:19                84 main.py\n",
      "2021-12-10  오전 08:17            14,615 module_and_packages.ipynb\n",
      "2021-11-19  오후 01:55           132,024 NumPy.ipynb\n",
      "2021-11-26  오후 01:36           300,062 Pandas.ipynb\n",
      "2021-10-21  오후 07:19    <DIR>          PDF\n",
      "2021-12-10  오전 04:31    <DIR>          roboadvisor\n",
      "2021-10-21  오후 06:40            55,014 string2.ipynb\n",
      "2021-10-20  오전 01:17               703 yesterday.txt\n",
      "2021-09-28  오후 10:14             5,230 과제1.ipynb\n",
      "2021-10-13  오전 02:01             3,693 과제2.ipynb\n",
      "2021-10-22  오전 11:51    <DIR>          연습\n",
      "              27개 파일             794,664 바이트\n",
      "               7개 디렉터리  56,706,695,168 바이트 남음\n"
     ]
    }
   ],
   "source": [
    "ls"
   ]
  },
  {
   "cell_type": "code",
   "execution_count": 3,
   "metadata": {},
   "outputs": [],
   "source": [
    "import fah_converter"
   ]
  },
  {
   "cell_type": "code",
   "execution_count": 4,
   "metadata": {},
   "outputs": [
    {
     "name": "stdout",
     "output_type": "stream",
     "text": [
      "Enter a celsius value:\n",
      "41\n",
      "That's 105.8 degrees Fahrenheit.\n"
     ]
    }
   ],
   "source": [
    "print(\"Enter a celsius value:\")\n",
    "celsius = float(input())\n",
    "fahrenheit = fah_converter.convert_c_to_f(celsius)\n",
    "print(\"That's\", fahrenheit, \"degrees Fahrenheit.\")"
   ]
  },
  {
   "cell_type": "markdown",
   "metadata": {},
   "source": [
    "## 네임스페이스(Namespace)\n",
    "\n",
    "* 모듈 호출의 범위 지정\n",
    "\n",
    "#### 모듈 이름에 alias를 생성하여 모듈의 이름을 바꿔 사용"
   ]
  },
  {
   "cell_type": "code",
   "execution_count": 5,
   "metadata": {},
   "outputs": [
    {
     "name": "stdout",
     "output_type": "stream",
     "text": [
      "39.488\n"
     ]
    }
   ],
   "source": [
    "import fah_converter as fah\n",
    "\n",
    "print(fah.convert_c_to_f(4.16))"
   ]
  },
  {
   "cell_type": "code",
   "execution_count": 6,
   "metadata": {},
   "outputs": [
    {
     "name": "stdout",
     "output_type": "stream",
     "text": [
      "0.4169166981539034\n",
      "8\n"
     ]
    }
   ],
   "source": [
    "import random as rd\n",
    "\n",
    "print(rd.random())\n",
    "print(rd.randrange(0, 10, 2))"
   ]
  },
  {
   "cell_type": "markdown",
   "metadata": {},
   "source": [
    "#### from 구문을 사용하여 모듈에서 특정 함수 또는 클래스만 호출"
   ]
  },
  {
   "cell_type": "code",
   "execution_count": 7,
   "metadata": {},
   "outputs": [
    {
     "name": "stdout",
     "output_type": "stream",
     "text": [
      "106.88000000000001\n"
     ]
    }
   ],
   "source": [
    "from fah_converter import convert_c_to_f\n",
    "\n",
    "print(convert_c_to_f(41.6))"
   ]
  },
  {
   "cell_type": "code",
   "execution_count": 8,
   "metadata": {},
   "outputs": [
    {
     "name": "stdout",
     "output_type": "stream",
     "text": [
      "0.6099181965355875\n",
      "0\n"
     ]
    }
   ],
   "source": [
    "from random import random, randrange\n",
    "\n",
    "print(random())\n",
    "print(randrange(0, 10, 2))"
   ]
  },
  {
   "cell_type": "markdown",
   "metadata": {},
   "source": [
    "#### '*'을 사용하여 모듈 안에 모든 함수, 클래스, 변수를 가져옴"
   ]
  },
  {
   "cell_type": "code",
   "execution_count": 9,
   "metadata": {},
   "outputs": [
    {
     "name": "stdout",
     "output_type": "stream",
     "text": [
      "0.7415162266319848\n",
      "2\n"
     ]
    }
   ],
   "source": [
    "from random import *\n",
    "\n",
    "print(random())\n",
    "print(randrange(0, 10, 2))"
   ]
  },
  {
   "cell_type": "markdown",
   "metadata": {},
   "source": [
    "## [miniLab] 계산기 모듈"
   ]
  },
  {
   "cell_type": "code",
   "execution_count": 10,
   "metadata": {},
   "outputs": [
    {
     "name": "stdout",
     "output_type": "stream",
     "text": [
      "Overwriting calculator.py\n"
     ]
    }
   ],
   "source": [
    "%%writefile calculator.py\n",
    "def add(a, b):\n",
    "    return a + b\n",
    "\n",
    "def sub(a, b):\n",
    "    return a - b\n",
    "\n",
    "def div(a, b):\n",
    "    return a / b\n",
    "\n",
    "def mul(a, b):\n",
    "    return a * b\n",
    "\n",
    "def mod(a, b):\n",
    "    return a % b"
   ]
  },
  {
   "cell_type": "code",
   "execution_count": 11,
   "metadata": {},
   "outputs": [],
   "source": [
    "from calculator import *"
   ]
  },
  {
   "cell_type": "code",
   "execution_count": 12,
   "metadata": {},
   "outputs": [
    {
     "name": "stdout",
     "output_type": "stream",
     "text": [
      "8\n",
      "-2\n",
      "15\n",
      "0.6\n",
      "3\n"
     ]
    }
   ],
   "source": [
    "print(add(3, 5))\n",
    "print(sub(3, 5))\n",
    "print(mul(3, 5))\n",
    "print(div(3, 5))\n",
    "print(mod(3, 5))"
   ]
  },
  {
   "cell_type": "markdown",
   "metadata": {},
   "source": [
    "# 패키지(Packages)\n",
    "\n",
    "* 패키지는 모듈의 집합\n",
    "* 패키지 안에 여러 모듈이 존재\n",
    "* 모듈을 주제별로 분리할 때 사용\n",
    "* 디렉터리와 같이 계층적인 구조로 관리\n",
    "* 모듈들이 서로 포함 관계를 가지며 거대한 패키지를 가짐\n",
    "* 파이썬에서는 패키지가 하나의 라이브러리"
   ]
  },
  {
   "cell_type": "markdown",
   "metadata": {},
   "source": [
    "### [참고] 셸 명령어\n",
    "* 텍스트 기반의 셸 명령어\n",
    "* ! 문자를 명령어 앞에 붙여서 셸 명령어 사용 가능\n",
    "\n",
    "\n",
    "------------------------------------------\n",
    "* pwd : 현재 주피터 노트북 파일의 경로\n",
    "* ls : 현재 폴더의 파일 리스트\n",
    "* whos : 현재 파일에 선언되어 메모리에 할당된 변수들\n",
    "* reset : 현재 파일에서 메모리에 할당된 변수 리스트를 모두 삭제\n",
    "* mkdir : 디렉토리 생성"
   ]
  },
  {
   "cell_type": "code",
   "execution_count": 13,
   "metadata": {},
   "outputs": [
    {
     "name": "stderr",
     "output_type": "stream",
     "text": [
      "'pwd'은(는) 내부 또는 외부 명령, 실행할 수 있는 프로그램, 또는\n",
      "배치 파일이 아닙니다.\n"
     ]
    }
   ],
   "source": [
    "!pwd"
   ]
  },
  {
   "cell_type": "code",
   "execution_count": 14,
   "metadata": {},
   "outputs": [
    {
     "name": "stdout",
     "output_type": "stream",
     "text": [
      " C 드라이브의 볼륨에는 이름이 없습니다.\n",
      " 볼륨 일련 번호: 92F2-1961\n",
      "\n",
      " C:\\Users\\syj47\\OneDrive - 한국산업기술대학교\\3-2\\프밍 디렉터리\n",
      "\n",
      "2021-12-10  오전 08:17    <DIR>          .\n",
      "2021-11-24  오전 09:39    <DIR>          ..\n",
      "2021-12-10  오전 07:15    <DIR>          .ipynb_checkpoints\n",
      "2021-12-10  오전 08:18    <DIR>          __pycache__\n",
      "2021-11-19  오후 01:53               228 a.npy\n",
      "2021-11-19  오후 01:53               706 ab.npz\n",
      "2021-11-19  오후 01:53               630 b.csv\n",
      "2021-11-19  오전 10:34            12,266 built-in module.ipynb\n",
      "2021-12-10  오전 08:18               178 calculator.py\n",
      "2021-11-19  오후 01:48               343 car.csv\n",
      "2021-12-10  오전 08:00            26,332 CH10 - 객체 지향 프로그래밍.ipynb\n",
      "2021-10-20  오전 02:42            17,727 CH2-변수와 자료형.ipynb\n",
      "2021-10-20  오후 05:50            29,785 CH3-화면 입출력과 리스트.ipynb\n",
      "2021-10-20  오후 11:19            23,715 CH4 - 조건문과 반복문.ipynb\n",
      "2021-10-21  오후 06:03            23,515 CH5 - 함수.ipynb\n",
      "2021-10-22  오전 11:57             9,569 CH6 - 문자열.ipynb\n",
      "2021-12-10  오전 06:32            45,927 CH7 - 자료구조.ipynb\n",
      "2021-12-10  오전 06:32            16,889 CH8 - 파이썬 스타일 코드 I.ipynb\n",
      "2021-12-10  오전 06:44            22,531 CH9 - 파이썬 스타일 코드 II.ipynb\n",
      "2021-12-10  오전 07:15               117 factorial_calculator.py\n",
      "2021-12-10  오전 08:17                89 fah_converter.py\n",
      "2021-11-25  오후 03:55             9,475 HW3.NumPy.ipynb\n",
      "2021-12-02  오후 04:34            43,217 HW4.Pandas.ipynb\n",
      "2021-12-10  오전 07:19                84 main.py\n",
      "2021-12-10  오전 08:17            14,615 module_and_packages.ipynb\n",
      "2021-11-19  오후 01:55           132,024 NumPy.ipynb\n",
      "2021-11-26  오후 01:36           300,062 Pandas.ipynb\n",
      "2021-10-21  오후 07:19    <DIR>          PDF\n",
      "2021-12-10  오전 04:31    <DIR>          roboadvisor\n",
      "2021-10-21  오후 06:40            55,014 string2.ipynb\n",
      "2021-10-20  오전 01:17               703 yesterday.txt\n",
      "2021-09-28  오후 10:14             5,230 과제1.ipynb\n",
      "2021-10-13  오전 02:01             3,693 과제2.ipynb\n",
      "2021-10-22  오전 11:51    <DIR>          연습\n",
      "              27개 파일             794,664 바이트\n",
      "               7개 디렉터리  56,707,293,184 바이트 남음\n"
     ]
    },
    {
     "ename": "NameError",
     "evalue": "name 'ls' is not defined",
     "output_type": "error",
     "traceback": [
      "\u001b[1;31m---------------------------------------------------------------------------\u001b[0m",
      "\u001b[1;31mNameError\u001b[0m                                 Traceback (most recent call last)",
      "\u001b[1;32m<ipython-input-14-694e103e5f80>\u001b[0m in \u001b[0;36m<module>\u001b[1;34m\u001b[0m\n\u001b[0;32m      1\u001b[0m \u001b[0mget_ipython\u001b[0m\u001b[1;33m(\u001b[0m\u001b[1;33m)\u001b[0m\u001b[1;33m.\u001b[0m\u001b[0mrun_line_magic\u001b[0m\u001b[1;33m(\u001b[0m\u001b[1;34m'ls'\u001b[0m\u001b[1;33m,\u001b[0m \u001b[1;34m''\u001b[0m\u001b[1;33m)\u001b[0m\u001b[1;33m\u001b[0m\u001b[1;33m\u001b[0m\u001b[0m\n\u001b[1;32m----> 2\u001b[1;33m \u001b[0mls\u001b[0m\u001b[1;33m\u001b[0m\u001b[1;33m\u001b[0m\u001b[0m\n\u001b[0m",
      "\u001b[1;31mNameError\u001b[0m: name 'ls' is not defined"
     ]
    }
   ],
   "source": [
    "%ls\n",
    "ls"
   ]
  },
  {
   "cell_type": "code",
   "execution_count": 15,
   "metadata": {},
   "outputs": [
    {
     "name": "stdout",
     "output_type": "stream",
     "text": [
      "Variable          Type                          Data/Info\n",
      "---------------------------------------------------------\n",
      "Random            type                          <class 'random.Random'>\n",
      "SystemRandom      type                          <class 'random.SystemRandom'>\n",
      "add               function                      <function add at 0x000001D8045E3160>\n",
      "betavariate       method                        <bound method Random.beta<...>t at 0x000001D800A29DB0>>\n",
      "celsius           float                         41.0\n",
      "choice            method                        <bound method Random.choi<...>t at 0x000001D800A29DB0>>\n",
      "choices           method                        <bound method Random.choi<...>t at 0x000001D800A29DB0>>\n",
      "convert_c_to_f    function                      <function convert_c_to_f at 0x000001D8045ACC10>\n",
      "div               function                      <function div at 0x000001D8045E3790>\n",
      "expovariate       method                        <bound method Random.expo<...>t at 0x000001D800A29DB0>>\n",
      "fah               module                        <module 'fah_converter' f<...>2\\\\프밍\\\\fah_converter.py'>\n",
      "fah_converter     module                        <module 'fah_converter' f<...>2\\\\프밍\\\\fah_converter.py'>\n",
      "fahrenheit        float                         105.8\n",
      "gammavariate      method                        <bound method Random.gamm<...>t at 0x000001D800A29DB0>>\n",
      "gauss             method                        <bound method Random.gaus<...>t at 0x000001D800A29DB0>>\n",
      "getrandbits       builtin_function_or_method    <built-in method getrandb<...>ct at 0x000001D800A29DB0>\n",
      "getstate          method                        <bound method Random.gets<...>t at 0x000001D800A29DB0>>\n",
      "lognormvariate    method                        <bound method Random.logn<...>t at 0x000001D800A29DB0>>\n",
      "mod               function                      <function mod at 0x000001D8045E3C10>\n",
      "mul               function                      <function mul at 0x000001D8045E3AF0>\n",
      "normalvariate     method                        <bound method Random.norm<...>t at 0x000001D800A29DB0>>\n",
      "paretovariate     method                        <bound method Random.pare<...>t at 0x000001D800A29DB0>>\n",
      "randint           method                        <bound method Random.rand<...>t at 0x000001D800A29DB0>>\n",
      "random            builtin_function_or_method    <built-in method random o<...>ct at 0x000001D800A29DB0>\n",
      "randrange         method                        <bound method Random.rand<...>t at 0x000001D800A29DB0>>\n",
      "rd                module                        <module 'random' from 'C:<...>aconda3\\\\lib\\\\random.py'>\n",
      "sample            method                        <bound method Random.samp<...>t at 0x000001D800A29DB0>>\n",
      "seed              method                        <bound method Random.seed<...>t at 0x000001D800A29DB0>>\n",
      "setstate          method                        <bound method Random.sets<...>t at 0x000001D800A29DB0>>\n",
      "shuffle           method                        <bound method Random.shuf<...>t at 0x000001D800A29DB0>>\n",
      "sub               function                      <function sub at 0x000001D8045E3E50>\n",
      "triangular        method                        <bound method Random.tria<...>t at 0x000001D800A29DB0>>\n",
      "uniform           method                        <bound method Random.unif<...>t at 0x000001D800A29DB0>>\n",
      "vonmisesvariate   method                        <bound method Random.vonm<...>t at 0x000001D800A29DB0>>\n",
      "weibullvariate    method                        <bound method Random.weib<...>t at 0x000001D800A29DB0>>\n"
     ]
    },
    {
     "ename": "NameError",
     "evalue": "name 'whos' is not defined",
     "output_type": "error",
     "traceback": [
      "\u001b[1;31m---------------------------------------------------------------------------\u001b[0m",
      "\u001b[1;31mNameError\u001b[0m                                 Traceback (most recent call last)",
      "\u001b[1;32m<ipython-input-15-b1e1ba8b9219>\u001b[0m in \u001b[0;36m<module>\u001b[1;34m\u001b[0m\n\u001b[0;32m      1\u001b[0m \u001b[0mget_ipython\u001b[0m\u001b[1;33m(\u001b[0m\u001b[1;33m)\u001b[0m\u001b[1;33m.\u001b[0m\u001b[0mrun_line_magic\u001b[0m\u001b[1;33m(\u001b[0m\u001b[1;34m'whos'\u001b[0m\u001b[1;33m,\u001b[0m \u001b[1;34m''\u001b[0m\u001b[1;33m)\u001b[0m\u001b[1;33m\u001b[0m\u001b[1;33m\u001b[0m\u001b[0m\n\u001b[1;32m----> 2\u001b[1;33m \u001b[0mwhos\u001b[0m\u001b[1;33m\u001b[0m\u001b[1;33m\u001b[0m\u001b[0m\n\u001b[0m",
      "\u001b[1;31mNameError\u001b[0m: name 'whos' is not defined"
     ]
    }
   ],
   "source": [
    "%whos\n",
    "whos"
   ]
  },
  {
   "cell_type": "markdown",
   "metadata": {},
   "source": [
    "## 패키지 생성"
   ]
  },
  {
   "cell_type": "code",
   "execution_count": 16,
   "metadata": {},
   "outputs": [
    {
     "name": "stderr",
     "output_type": "stream",
     "text": [
      "하위 디렉터리 또는 파일 roboadvisor이(가) 이미 있습니다.\n",
      "하위 디렉터리 또는 파일 roboadvisor\\crawling이(가) 이미 있습니다.\n",
      "하위 디렉터리 또는 파일 roboadvisor\\database이(가) 이미 있습니다.\n",
      "하위 디렉터리 또는 파일 roboadvisor\\analysis이(가) 이미 있습니다.\n"
     ]
    }
   ],
   "source": [
    "!mkdir roboadvisor\n",
    "!mkdir roboadvisor\\crawling\n",
    "!mkdir roboadvisor\\database\n",
    "!mkdir roboadvisor\\analysis"
   ]
  },
  {
   "cell_type": "code",
   "execution_count": 17,
   "metadata": {},
   "outputs": [
    {
     "name": "stdout",
     "output_type": "stream",
     "text": [
      " C 드라이브의 볼륨에는 이름이 없습니다.\n",
      " 볼륨 일련 번호: 92F2-1961\n",
      "\n",
      " C:\\Users\\syj47\\OneDrive - 한국산업기술대학교\\3-2\\프밍\\roboadvisor 디렉터리\n",
      "\n",
      "2021-12-10  오전 04:31    <DIR>          .\n",
      "2021-12-10  오전 08:17    <DIR>          ..\n",
      "2021-12-10  오전 04:31               101 __init__.py\n",
      "2021-12-10  오전 04:31               150 __main__.py\n",
      "2021-12-10  오전 04:31    <DIR>          __pycache__\n",
      "2021-12-10  오전 04:31    <DIR>          analysis\n",
      "2021-12-10  오전 04:31    <DIR>          crawling\n",
      "2021-12-10  오전 04:31    <DIR>          database\n",
      "               2개 파일                 251 바이트\n",
      "               6개 디렉터리  56,704,524,288 바이트 남음\n"
     ]
    }
   ],
   "source": [
    "ls roboadvisor"
   ]
  },
  {
   "cell_type": "code",
   "execution_count": 18,
   "metadata": {},
   "outputs": [
    {
     "name": "stdout",
     "output_type": "stream",
     "text": [
      "Overwriting roboadvisor\\crawling\\parser.py\n"
     ]
    }
   ],
   "source": [
    "%%writefile roboadvisor\\crawling\\parser.py\n",
    "def parser_test():\n",
    "    print('parser')"
   ]
  },
  {
   "cell_type": "code",
   "execution_count": 19,
   "metadata": {},
   "outputs": [
    {
     "name": "stdout",
     "output_type": "stream",
     "text": [
      "Overwriting roboadvisor\\crawling\\scrap.py\n"
     ]
    }
   ],
   "source": [
    "%%writefile roboadvisor\\crawling\\scrap.py\n",
    "def scrap_test():\n",
    "    print('scrap')"
   ]
  },
  {
   "cell_type": "code",
   "execution_count": 20,
   "metadata": {},
   "outputs": [
    {
     "name": "stdout",
     "output_type": "stream",
     "text": [
      "Overwriting roboadvisor\\database\\connection.py\n"
     ]
    }
   ],
   "source": [
    "%%writefile roboadvisor\\database\\connection.py\n",
    "def connection_test():\n",
    "    print('connection')"
   ]
  },
  {
   "cell_type": "code",
   "execution_count": 21,
   "metadata": {},
   "outputs": [
    {
     "name": "stdout",
     "output_type": "stream",
     "text": [
      "Overwriting roboadvisor\\database\\query.py\n"
     ]
    }
   ],
   "source": [
    "%%writefile roboadvisor\\database\\query.py\n",
    "def query_test():\n",
    "    print('query')"
   ]
  },
  {
   "cell_type": "code",
   "execution_count": 22,
   "metadata": {},
   "outputs": [
    {
     "name": "stdout",
     "output_type": "stream",
     "text": [
      "Overwriting roboadvisor\\analysis\\series.py\n"
     ]
    }
   ],
   "source": [
    "%%writefile roboadvisor\\analysis\\series.py\n",
    "def series_test():\n",
    "    print('series')"
   ]
  },
  {
   "cell_type": "code",
   "execution_count": 23,
   "metadata": {},
   "outputs": [
    {
     "name": "stdout",
     "output_type": "stream",
     "text": [
      "Overwriting roboadvisor\\analysis\\statics.py\n"
     ]
    }
   ],
   "source": [
    "%%writefile roboadvisor\\analysis\\statics.py\n",
    "def statics_test():\n",
    "    print('statics')"
   ]
  },
  {
   "cell_type": "markdown",
   "metadata": {},
   "source": [
    "## 패키지 실행"
   ]
  },
  {
   "cell_type": "code",
   "execution_count": 24,
   "metadata": {},
   "outputs": [
    {
     "ename": "ModuleNotFoundError",
     "evalue": "No module named 'analysis'",
     "output_type": "error",
     "traceback": [
      "\u001b[1;31m---------------------------------------------------------------------------\u001b[0m",
      "\u001b[1;31mModuleNotFoundError\u001b[0m                       Traceback (most recent call last)",
      "\u001b[1;32m<ipython-input-24-1bf2f8b9825d>\u001b[0m in \u001b[0;36m<module>\u001b[1;34m\u001b[0m\n\u001b[1;32m----> 1\u001b[1;33m \u001b[1;32mfrom\u001b[0m \u001b[0mroboadvisor\u001b[0m\u001b[1;33m.\u001b[0m\u001b[0manalysis\u001b[0m \u001b[1;32mimport\u001b[0m \u001b[0mseries\u001b[0m\u001b[1;33m\u001b[0m\u001b[1;33m\u001b[0m\u001b[0m\n\u001b[0m",
      "\u001b[1;32m~\\OneDrive - 한국산업기술대학교\\3-2\\프밍\\roboadvisor\\__init__.py\u001b[0m in \u001b[0;36m<module>\u001b[1;34m\u001b[0m\n\u001b[1;32m----> 1\u001b[1;33m \u001b[1;32mimport\u001b[0m \u001b[0manalysis\u001b[0m\u001b[1;33m\u001b[0m\u001b[1;33m\u001b[0m\u001b[0m\n\u001b[0m\u001b[0;32m      2\u001b[0m \u001b[1;32mimport\u001b[0m \u001b[0mcrawling\u001b[0m\u001b[1;33m\u001b[0m\u001b[1;33m\u001b[0m\u001b[0m\n\u001b[0;32m      3\u001b[0m \u001b[1;32mimport\u001b[0m \u001b[0mdatabase\u001b[0m\u001b[1;33m\u001b[0m\u001b[1;33m\u001b[0m\u001b[0m\n\u001b[0;32m      4\u001b[0m \u001b[1;33m\u001b[0m\u001b[0m\n\u001b[0;32m      5\u001b[0m \u001b[0m__all__\u001b[0m \u001b[1;33m=\u001b[0m \u001b[1;33m[\u001b[0m\u001b[1;34m'analysis'\u001b[0m\u001b[1;33m,\u001b[0m \u001b[1;34m'crawling'\u001b[0m\u001b[1;33m,\u001b[0m \u001b[1;34m'database'\u001b[0m\u001b[1;33m]\u001b[0m\u001b[1;33m\u001b[0m\u001b[1;33m\u001b[0m\u001b[0m\n",
      "\u001b[1;31mModuleNotFoundError\u001b[0m: No module named 'analysis'"
     ]
    }
   ],
   "source": [
    "from roboadvisor.analysis import series"
   ]
  },
  {
   "cell_type": "code",
   "execution_count": 25,
   "metadata": {},
   "outputs": [
    {
     "ename": "NameError",
     "evalue": "name 'series' is not defined",
     "output_type": "error",
     "traceback": [
      "\u001b[1;31m---------------------------------------------------------------------------\u001b[0m",
      "\u001b[1;31mNameError\u001b[0m                                 Traceback (most recent call last)",
      "\u001b[1;32m<ipython-input-25-bcb7bc59bc1f>\u001b[0m in \u001b[0;36m<module>\u001b[1;34m\u001b[0m\n\u001b[1;32m----> 1\u001b[1;33m \u001b[0mseries\u001b[0m\u001b[1;33m.\u001b[0m\u001b[0mseries_test\u001b[0m\u001b[1;33m(\u001b[0m\u001b[1;33m)\u001b[0m\u001b[1;33m\u001b[0m\u001b[1;33m\u001b[0m\u001b[0m\n\u001b[0m",
      "\u001b[1;31mNameError\u001b[0m: name 'series' is not defined"
     ]
    }
   ],
   "source": [
    "series.series_test()"
   ]
  },
  {
   "cell_type": "markdown",
   "metadata": {},
   "source": [
    "## 패키지 구성 파일\n",
    "\n",
    "* \\_\\_init\\_\\_.py\n",
    "  + 파이썬 패키지를 선언하는 초기화 스크립트\n",
    "  + 패키지에 대한 메타데이터에 해당하는 내용 포함\n",
    "  + 파이썬의 거의 모든 라이브러리에 포함\n",
    "  + 파이썬 버전 3.3 부터는 \\_\\_init\\_\\_.py 파일이 없어도 패키지로 인식\n",
    "  + 파이썬 버전 3.3 밑의 하위 버전과 호환을 위해 \\_\\_init\\_\\_.py 파일 생성\n",
    "  + \\_\\_all\\_\\_이라는 리스트형의 변수에 하위 패키지의 이름을 작성"
   ]
  },
  {
   "cell_type": "code",
   "execution_count": 26,
   "metadata": {},
   "outputs": [
    {
     "name": "stdout",
     "output_type": "stream",
     "text": [
      "Overwriting roboadvisor\\__init__.py\n"
     ]
    }
   ],
   "source": [
    "%%writefile roboadvisor\\__init__.py\n",
    "import analysis\n",
    "import crawling\n",
    "import database\n",
    "\n",
    "__all__ = ['analysis', 'crawling', 'database']"
   ]
  },
  {
   "cell_type": "code",
   "execution_count": 27,
   "metadata": {},
   "outputs": [
    {
     "name": "stdout",
     "output_type": "stream",
     "text": [
      "Overwriting roboadvisor\\analysis\\__init__.py\n"
     ]
    }
   ],
   "source": [
    "%%writefile roboadvisor\\analysis\\__init__.py\n",
    "from . import series\n",
    "from . import statics\n",
    "\n",
    "__all__ = ['series', 'statics']"
   ]
  },
  {
   "cell_type": "code",
   "execution_count": 28,
   "metadata": {},
   "outputs": [
    {
     "name": "stdout",
     "output_type": "stream",
     "text": [
      "Overwriting roboadvisor\\crawling\\__init__.py\n"
     ]
    }
   ],
   "source": [
    "%%writefile roboadvisor\\crawling\\__init__.py\n",
    "from . import parser\n",
    "from . import scrap\n",
    "\n",
    "__all__ = ['parser', 'scrap']"
   ]
  },
  {
   "cell_type": "code",
   "execution_count": 29,
   "metadata": {},
   "outputs": [
    {
     "name": "stdout",
     "output_type": "stream",
     "text": [
      "Overwriting roboadvisor\\database\\__init__.py\n"
     ]
    }
   ],
   "source": [
    "%%writefile roboadvisor\\database\\__init__.py\n",
    "from . import connection\n",
    "from . import query\n",
    "\n",
    "__all__ = ['connection', 'query']"
   ]
  },
  {
   "cell_type": "markdown",
   "metadata": {},
   "source": [
    "### \\_\\_main\\_\\_.py\n",
    "  + 패키지 자체를 실행하기 위한 용도\n",
    "  + 패키지를 실행시키면 \\_\\_main\\_\\_.py 실행"
   ]
  },
  {
   "cell_type": "code",
   "execution_count": 30,
   "metadata": {},
   "outputs": [
    {
     "name": "stdout",
     "output_type": "stream",
     "text": [
      "Overwriting roboadvisor\\__main__.py\n"
     ]
    }
   ],
   "source": [
    "%%writefile roboadvisor\\__main__.py\n",
    "from analysis.series import series_test\n",
    "from crawling.parser import parser_test\n",
    "\n",
    "if __name__ == '__main__':\n",
    "    series_test()\n",
    "    parser_test()"
   ]
  },
  {
   "cell_type": "code",
   "execution_count": 31,
   "metadata": {},
   "outputs": [
    {
     "name": "stdout",
     "output_type": "stream",
     "text": [
      "series\n",
      "parser\n"
     ]
    }
   ],
   "source": [
    "!python roboadvisor"
   ]
  }
 ],
 "metadata": {
  "kernelspec": {
   "display_name": "Python 3",
   "language": "python",
   "name": "python3"
  },
  "language_info": {
   "codemirror_mode": {
    "name": "ipython",
    "version": 3
   },
   "file_extension": ".py",
   "mimetype": "text/x-python",
   "name": "python",
   "nbconvert_exporter": "python",
   "pygments_lexer": "ipython3",
   "version": "3.8.5"
  }
 },
 "nbformat": 4,
 "nbformat_minor": 5
}
