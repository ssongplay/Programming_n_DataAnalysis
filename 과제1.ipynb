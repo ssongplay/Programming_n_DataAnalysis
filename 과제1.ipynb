{
 "cells": [
  {
   "cell_type": "markdown",
   "metadata": {},
   "source": [
    "# 프로그래밍과 데이터분석 과제 1\n",
    "2019146018 송연주"
   ]
  },
  {
   "cell_type": "markdown",
   "metadata": {},
   "source": [
    "# 1. 10~30 사이의 홀수를 출력하는 프로그램을 작성하시오."
   ]
  },
  {
   "cell_type": "code",
   "execution_count": 1,
   "metadata": {},
   "outputs": [
    {
     "name": "stdout",
     "output_type": "stream",
     "text": [
      "1\n",
      "3\n",
      "5\n",
      "7\n",
      "9\n",
      "11\n",
      "13\n",
      "15\n",
      "17\n",
      "19\n",
      "21\n",
      "23\n",
      "25\n",
      "27\n",
      "29\n"
     ]
    }
   ],
   "source": [
    "for i in range(1, 30):\n",
    "    if i%2 == 1:\n",
    "        print(i)"
   ]
  },
  {
   "cell_type": "markdown",
   "metadata": {
    "colab_type": "text",
    "id": "31ATM9vUxJQ0"
   },
   "source": [
    "# 2. 1부터 100 사이의 홀수와 짝수의 누적합을 구하시오."
   ]
  },
  {
   "cell_type": "code",
   "execution_count": 2,
   "metadata": {},
   "outputs": [
    {
     "name": "stdout",
     "output_type": "stream",
     "text": [
      "1부터 100 사이의 홀수의 누적합 :  2500\n",
      "1부터 100 사이의 짝수의 누적합 :  2550\n"
     ]
    }
   ],
   "source": [
    "# 1부터 100 사이의 홀수의 누적합\n",
    "sum1 = 0\n",
    "for i in range(1, 101, 2):\n",
    "    sum1 += i\n",
    "print(\"1부터 100 사이의 홀수의 누적합 : \", sum1)\n",
    "\n",
    "# 1부터 100 사이의 짝수의 누적합\n",
    "sum2 = 0\n",
    "for j in range(2, 101, 2):\n",
    "    sum2 += j\n",
    "print(\"1부터 100 사이의 짝수의 누적합 : \", sum2)"
   ]
  },
  {
   "cell_type": "markdown",
   "metadata": {
    "colab_type": "text",
    "id": "tl6BsWC-7OOI"
   },
   "source": [
    "# 3. 2부터 100 사이의 소수를 구하는 코드를 작성하시오."
   ]
  },
  {
   "cell_type": "code",
   "execution_count": 3,
   "metadata": {},
   "outputs": [
    {
     "name": "stdout",
     "output_type": "stream",
     "text": [
      "2\n",
      "3\n",
      "5\n",
      "7\n",
      "11\n",
      "13\n",
      "17\n",
      "19\n",
      "23\n",
      "29\n",
      "31\n",
      "37\n",
      "41\n",
      "43\n",
      "47\n",
      "53\n",
      "59\n",
      "61\n",
      "67\n",
      "71\n",
      "73\n",
      "79\n",
      "83\n",
      "89\n",
      "97\n"
     ]
    }
   ],
   "source": [
    "for i in range(2,101):\n",
    "    for j in range(2, i+1):\n",
    "        if (j == i):\n",
    "            print(i)\n",
    "        elif (i % j == 0):\n",
    "            break"
   ]
  },
  {
   "cell_type": "markdown",
   "metadata": {
    "colab_type": "text",
    "id": "oCvySvayxyC_"
   },
   "source": [
    "# 4. 2020년이 윤년인지 검사하는 프로그램을 작성하시오.\n",
    "\n",
    "\n",
    "*  400 으로 나누어 떨어지는 해는 윤년이다.\n",
    "*  4로 나누어 떨어지는 해는 윤년이다.\n",
    "*  4로 나누어 떨어지지만 100으로 나누어 떨어지는 해는 윤년이 아니다.\n"
   ]
  },
  {
   "cell_type": "code",
   "execution_count": 4,
   "metadata": {},
   "outputs": [
    {
     "name": "stdout",
     "output_type": "stream",
     "text": [
      "Enter year: 2020\n",
      "2020 년은 윤년이다.\n"
     ]
    }
   ],
   "source": [
    "year = int(input(\"Enter year: \"))\n",
    "\n",
    "if((year%4==0 and year%100!=0) or year%400==0):\n",
    "    print(year, \"년은 윤년이다.\")\n",
    "else:\n",
    "    print(year, \"년은 윤년이 아니다.\")"
   ]
  },
  {
   "cell_type": "markdown",
   "metadata": {
    "colab_type": "text",
    "id": "vNZR8EPUyn2R"
   },
   "source": [
    "# 5. 나이에 따른 입장료를 계산하는 코드를 작성하시오.\n",
    "\n",
    "* 3 ~ 7세     : 1000원\n",
    "* 8 ~ 19세    : 2000원\n",
    "* 20 ~ 64세   : 3000원\n",
    "* 2세이하, 65세 이상 : 0원"
   ]
  },
  {
   "cell_type": "code",
   "execution_count": 5,
   "metadata": {},
   "outputs": [
    {
     "name": "stdout",
     "output_type": "stream",
     "text": [
      "Enter your age: 22\n",
      "입장료 : 3000원\n"
     ]
    }
   ],
   "source": [
    "age = int(input(\"Enter your age: \"))\n",
    "\n",
    "if age <= 7 and age >= 3:\n",
    "    print(\"입장료 : 1000원\")\n",
    "elif age <= 19 and age >= 8:\n",
    "    print(\"입장료 : 2000원\")\n",
    "elif age <= 64 and age >= 20:\n",
    "    print(\"입장료 : 3000원\")\n",
    "else:\n",
    "    print(\"입장료 : 0원\")"
   ]
  }
 ],
 "metadata": {
  "colab": {
   "authorship_tag": "ABX9TyOxQb4lBEmy+ZBMozaizl++",
   "name": "Coding Quiz #1.ipynb",
   "provenance": []
  },
  "kernelspec": {
   "display_name": "Python 3",
   "language": "python",
   "name": "python3"
  },
  "language_info": {
   "codemirror_mode": {
    "name": "ipython",
    "version": 3
   },
   "file_extension": ".py",
   "mimetype": "text/x-python",
   "name": "python",
   "nbconvert_exporter": "python",
   "pygments_lexer": "ipython3",
   "version": "3.8.5"
  }
 },
 "nbformat": 4,
 "nbformat_minor": 1
}
