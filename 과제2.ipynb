{
 "cells": [
  {
   "cell_type": "markdown",
   "metadata": {},
   "source": [
    "### 1. 연습문제 8번"
   ]
  },
  {
   "cell_type": "code",
   "execution_count": 1,
   "metadata": {},
   "outputs": [
    {
     "name": "stdout",
     "output_type": "stream",
     "text": [
      "I eat 10 oranges every day.\n",
      "I eat 10 oranges every three days.\n"
     ]
    }
   ],
   "source": [
    "number = 10\n",
    "day = 3\n",
    "print(\"I eat %d oranges every day.\"%number)\n",
    "\n",
    "number = 10\n",
    "day = \"three\"\n",
    "print(\"I eat %d oranges every %s days.\"%(number,day))"
   ]
  },
  {
   "cell_type": "markdown",
   "metadata": {},
   "source": [
    "### 2. 연습문제 10번"
   ]
  },
  {
   "cell_type": "code",
   "execution_count": 2,
   "metadata": {},
   "outputs": [
    {
     "name": "stdout",
     "output_type": "stream",
     "text": [
      "This Is PYTHON\n"
     ]
    }
   ],
   "source": [
    "str_a = \"this is\"\n",
    "str_b = \"Python\"\n",
    "print(str_a.title(), str_b.upper())"
   ]
  },
  {
   "attachments": {},
   "cell_type": "markdown",
   "metadata": {},
   "source": [
    "### 3. 연습문제 12번"
   ]
  },
  {
   "cell_type": "code",
   "execution_count": 3,
   "metadata": {},
   "outputs": [
    {
     "name": "stdout",
     "output_type": "stream",
     "text": [
      "     *\n",
      "    ***\n",
      "   *****\n",
      "  *******\n",
      " *********\n",
      "***********\n"
     ]
    }
   ],
   "source": [
    "print(\"{0:>6s}\".format(\"*\"))\n",
    "print(\"{0:>7s}\".format(\"***\"))\n",
    "print(\"{0:>8s}\".format(\"*****\"))\n",
    "print(\"{0:>9s}\".format(\"*******\"))\n",
    "print(\"{0:>10s}\".format(\"*********\"))\n",
    "print(\"{0:>11s}\".format(\"***********\"))"
   ]
  },
  {
   "cell_type": "markdown",
   "metadata": {},
   "source": [
    "### 4. name, age, location 변수를 생성하고 각각 'Kevin', 25, 'New York'을 대입한 후, 변수를 이용하여 아래와 같은 문장이 출력하는 코드를 작성하시오.\n",
    "Hello! My name is Kevin. I'm from New York. I am 25 years old. "
   ]
  },
  {
   "cell_type": "code",
   "execution_count": 4,
   "metadata": {},
   "outputs": [
    {
     "name": "stdout",
     "output_type": "stream",
     "text": [
      "Hello! My name is Kevin. I'm from New York. I am 25 years old.\n"
     ]
    }
   ],
   "source": [
    "name = \"Kevin\"\n",
    "age = 25\n",
    "location = \"New York\"\n",
    "print(\"Hello! My name is %s. I'm from %s. I am %d years old.\"%(name, location, age))"
   ]
  },
  {
   "cell_type": "markdown",
   "metadata": {},
   "source": [
    "### 5. 변수 string1 은 'red apple', 변수 string2는 'yellow banana'의 문자열을 담고 있다. 문자열 인덱싱을 이용하여 'red banana', 'yellow apple'을 출력해 보자."
   ]
  },
  {
   "cell_type": "code",
   "execution_count": 5,
   "metadata": {},
   "outputs": [
    {
     "name": "stdout",
     "output_type": "stream",
     "text": [
      "red banana\n",
      "yellow apple\n"
     ]
    }
   ],
   "source": [
    "string1 = 'red apple'\n",
    "string2 = \"yellow banana\"\n",
    "print(string1[0:3], string2[-6:])\n",
    "print(string2[0:6], string1[-5:])"
   ]
  }
 ],
 "metadata": {
  "kernelspec": {
   "display_name": "Python 3",
   "language": "python",
   "name": "python3"
  },
  "language_info": {
   "codemirror_mode": {
    "name": "ipython",
    "version": 3
   },
   "file_extension": ".py",
   "mimetype": "text/x-python",
   "name": "python",
   "nbconvert_exporter": "python",
   "pygments_lexer": "ipython3",
   "version": "3.8.5"
  }
 },
 "nbformat": 4,
 "nbformat_minor": 5
}
