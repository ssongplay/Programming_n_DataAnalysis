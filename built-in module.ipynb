{
 "cells": [
  {
   "cell_type": "markdown",
   "id": "a601615e",
   "metadata": {},
   "source": [
    "# 파이썬 내장(built-in) 모듈\n",
    "## 시간 모듈(datetime)\n",
    "* 운영체제가 제공하는 시간 기능을 파이썬에서 사용할 수 있도록 만들어진 모듈\n",
    "* 시간 모듈을 사용하기 위해서는 `import time` 필요"
   ]
  },
  {
   "cell_type": "code",
   "execution_count": 14,
   "id": "6126ff0b",
   "metadata": {},
   "outputs": [
    {
     "name": "stdout",
     "output_type": "stream",
     "text": [
      "['_STRUCT_TM_ITEMS', '__doc__', '__loader__', '__name__', '__package__', '__spec__', 'altzone', 'asctime', 'ctime', 'daylight', 'get_clock_info', 'gmtime', 'localtime', 'mktime', 'monotonic', 'monotonic_ns', 'perf_counter', 'perf_counter_ns', 'process_time', 'process_time_ns', 'sleep', 'strftime', 'strptime', 'struct_time', 'thread_time', 'thread_time_ns', 'time', 'time_ns', 'timezone', 'tzname']\n"
     ]
    }
   ],
   "source": [
    "import time\n",
    "print(dir(time))"
   ]
  },
  {
   "cell_type": "markdown",
   "id": "f1ac9281",
   "metadata": {},
   "source": [
    "### 시간 모듈 time 예제"
   ]
  },
  {
   "cell_type": "code",
   "execution_count": 15,
   "id": "639ecbf1",
   "metadata": {},
   "outputs": [
    {
     "name": "stdout",
     "output_type": "stream",
     "text": [
      "<module 'time' (built-in)>\n",
      "1636617468.9369447\n",
      "1636617468.9369447\n",
      "1636617468.9369447\n",
      "time.struct_time(tm_year=2021, tm_mon=11, tm_mday=11, tm_hour=7, tm_min=57, tm_sec=48, tm_wday=3, tm_yday=315, tm_isdst=0)\n",
      "2021년 11월 11일\n",
      "7시 57분 48초\n"
     ]
    }
   ],
   "source": [
    "print(time)\n",
    "print(time.time())\n",
    "print(time.time())\n",
    "print(time.time())\n",
    "\n",
    "now = time.gmtime(time.time())\n",
    "print(now)\n",
    "\n",
    "year = str(now.tm_year)\n",
    "month = str(now.tm_mon)\n",
    "day = str(now.tm_mday)\n",
    "print(year + \"년\", month + \"월\", day + \"일\")\n",
    "\n",
    "hour = str(now.tm_hour)\n",
    "minute = str(now.tm_min)\n",
    "sec = str(now.tm_sec)\n",
    "print(hour + \"시\", minute + \"분\", sec + \"초\")"
   ]
  },
  {
   "cell_type": "markdown",
   "id": "44da5bf9",
   "metadata": {},
   "source": [
    "### 날짜시간 모듈 datetime의 date 클래스 예제"
   ]
  },
  {
   "cell_type": "code",
   "execution_count": 16,
   "id": "91fdf441",
   "metadata": {},
   "outputs": [
    {
     "name": "stdout",
     "output_type": "stream",
     "text": [
      "<class 'datetime.date'>\n",
      "2000-01-01\n",
      "2010-01-01\n",
      "2021-11-11\n",
      "2021년 11월 11일 목요일\n"
     ]
    }
   ],
   "source": [
    "from datetime import date\n",
    "print(date)\n",
    "print(date(2000, 1, 1))\n",
    "print(date(year = 2010, month = 1, day = 1))\n",
    "print(date.today())\n",
    "\n",
    "today = date.today()\n",
    "year = str(today.year)\n",
    "month = str(today.month)\n",
    "day = str(today.day)\n",
    "weekday = \"월화수목금토일\"[today.weekday()]\n",
    "print(year + \"년\", month + \"월\", day + \"일\", weekday + \"요일\")"
   ]
  },
  {
   "cell_type": "markdown",
   "id": "d377d781",
   "metadata": {},
   "source": [
    "### 날짜시간 모듈 datetime의 time 클래스 예제"
   ]
  },
  {
   "cell_type": "code",
   "execution_count": 17,
   "id": "19bf62c1",
   "metadata": {},
   "outputs": [
    {
     "name": "stdout",
     "output_type": "stream",
     "text": [
      "<class 'datetime.time'>\n",
      "12:00:00\n",
      "14:30:00\n",
      "16:30:45\n",
      "18:00:15.100000\n",
      "20시 40분 15초 20000마이크로초\n"
     ]
    }
   ],
   "source": [
    "from datetime import time\n",
    "print(time)\n",
    "print(time(12, 0))\n",
    "print(time(14, 30))\n",
    "print(time(16, 30, 45))\n",
    "print(time(18, 00, 15, 100000))\n",
    "\n",
    "now = time(20, 40, 15, 20000)\n",
    "hour = str(now.hour)\n",
    "minute = str(now.minute)\n",
    "sec = str(now.second)\n",
    "msec = str(now.microsecond)\n",
    "print(hour + \"시\", minute + \"분\", sec + \"초\", msec + \"마이크로초\")"
   ]
  },
  {
   "cell_type": "markdown",
   "id": "3172e3fd",
   "metadata": {},
   "source": [
    "### 수학 모듈(math)\n",
    "\n",
    "* 파이썬에서 수학에 필요한 math 모듈 제공"
   ]
  },
  {
   "cell_type": "code",
   "execution_count": 20,
   "id": "465f1bd1",
   "metadata": {},
   "outputs": [
    {
     "name": "stdout",
     "output_type": "stream",
     "text": [
      "['__doc__', '__loader__', '__name__', '__package__', '__spec__', 'acos', 'acosh', 'asin', 'asinh', 'atan', 'atan2', 'atanh', 'ceil', 'comb', 'copysign', 'cos', 'cosh', 'degrees', 'dist', 'e', 'erf', 'erfc', 'exp', 'expm1', 'fabs', 'factorial', 'floor', 'fmod', 'frexp', 'fsum', 'gamma', 'gcd', 'hypot', 'inf', 'isclose', 'isfinite', 'isinf', 'isnan', 'isqrt', 'ldexp', 'lgamma', 'log', 'log10', 'log1p', 'log2', 'modf', 'nan', 'perm', 'pi', 'pow', 'prod', 'radians', 'remainder', 'sin', 'sinh', 'sqrt', 'tan', 'tanh', 'tau', 'trunc']\n"
     ]
    }
   ],
   "source": [
    "import math\n",
    "print(dir(math))"
   ]
  },
  {
   "cell_type": "markdown",
   "id": "75abe547",
   "metadata": {},
   "source": [
    "* `math` 모듈 대표 상수\n",
    "\n",
    "| 상수 | 설명 |\n",
    "| --- | --- |\n",
    "| `math.pi` | 원주율 |\n",
    "| `math.e` | 자연상수 |\n",
    "| `math.inf` | 무한대 |\n",
    "\n",
    "* `math` 모듈에서 제공하는 대표 함수\n",
    "\n",
    "| 함수 | 설명 |\n",
    "| --- | --- |\n",
    "| `math.factorial(x)` | x 팩토리얼 |\n",
    "| `math.gcd(a, b)` | a와 b의 최대공약수 |\n",
    "| `math.floor(x)` | x의 내림값 |\n",
    "| `math.ceil(x)` | x의 올림값 |\n",
    "| `math.pow(x, y)` | x의 y승 |\n",
    "| `math.sqrt(x)` | x의 제곱근 |\n",
    "| `math.log(x, base)` | base를 밑으로 하는 x 로그 |\n",
    "| `math.sin(x)` | x 라디안의 사인 |\n",
    "| `math.cos(x)` | x 라디안의 코사인 |\n",
    "| `math.tan(x)` | x 라디안의 탄젠트 |\n",
    "| `math.degrees(x)` | x 라디안을 도 단위로 변환 |\n",
    "| `math.radians(x)` | x 도를 라디안 단위로 변환 |"
   ]
  },
  {
   "cell_type": "code",
   "execution_count": 21,
   "id": "b9821568",
   "metadata": {},
   "outputs": [
    {
     "name": "stdout",
     "output_type": "stream",
     "text": [
      "6\n",
      "12\n",
      "3\n",
      "4\n",
      "1024.0\n",
      "3.1622776601683795\n",
      "3.3219280948873626\n",
      "180.0\n",
      "3.141592653589793\n",
      "1.0\n",
      "-1.0\n"
     ]
    }
   ],
   "source": [
    "import math\n",
    "print(math.factorial(3))\n",
    "print(math.gcd(12, 24))\n",
    "print(math.floor(math.pi))\n",
    "print(math.ceil(math.pi))\n",
    "print(math.pow(2, 10))\n",
    "print(math.sqrt(10))\n",
    "print(math.log(10, 2))\n",
    "print(math.degrees(math.pi))\n",
    "print(math.radians(180))\n",
    "print(math.sin(math.radians(90)))\n",
    "print(math.cos(math.radians(180)))"
   ]
  },
  {
   "cell_type": "markdown",
   "id": "1b241b79",
   "metadata": {},
   "source": [
    "### 순열과 조합 모듈(itertools)\n",
    "\n",
    "* `itertools` 모듈에서 곱집합, 순열, 조합 등을 구하는 함수 제공\n",
    "\n",
    "| 함수 | 설명 |\n",
    "| --- | --- |\n",
    "| `itertools.product(seq1, ...)` | 시퀀스의 곱집합 |\n",
    "| `itertools.permutations(p, r)` | p 시퀀스의 요소 r개를 나열하는 순열 |\n",
    "| `itertools.combinations(p, r)` | p 시퀀스의 요소 r개를 선택하는 조합 |\n",
    "| `itertools.combinations_with_replacement(p, r)` | p 시퀀스의 요소 r개를 중복 허용해 선택하는 조합 |"
   ]
  },
  {
   "cell_type": "code",
   "execution_count": 22,
   "id": "f68d98fb",
   "metadata": {},
   "outputs": [
    {
     "name": "stdout",
     "output_type": "stream",
     "text": [
      "['a', 'b', 'c']\n",
      "[1, 2]\n",
      "[('a', 1), ('a', 2), ('b', 1), ('b', 2), ('c', 1), ('c', 2)]\n",
      "[('a', 'b'), ('a', 'c'), ('b', 'a'), ('b', 'c'), ('c', 'a'), ('c', 'b')]\n",
      "[('a', 'b'), ('a', 'c'), ('b', 'c')]\n",
      "[('a', 'a'), ('a', 'b'), ('a', 'c'), ('b', 'b'), ('b', 'c'), ('c', 'c')]\n"
     ]
    }
   ],
   "source": [
    "import itertools\n",
    "list_1 = ['a', 'b', 'c']\n",
    "print(list_1)\n",
    "list_2 = [1, 2]\n",
    "print(list_2)\n",
    "list_cp = list(itertools.product(list_1, list_2))\n",
    "print(list_cp)\n",
    "list_p = list(itertools.permutations(list_1, 2))\n",
    "print(list_p)\n",
    "list_c = list(itertools.combinations(list_1, 2))\n",
    "print(list_c)\n",
    "list_cr = list(itertools.combinations_with_replacement(list_1, 2))\n",
    "print(list_cr)"
   ]
  },
  {
   "cell_type": "markdown",
   "id": "fc809a1b",
   "metadata": {},
   "source": [
    "### 통계 모듈(statistics)\n",
    "\n",
    "* `statistics` 모듈에서는 산술평균, 표준편차 등 통계에 필요한 계산 관련 함수들을 제공\n",
    "\n",
    "| 함수 | 설명 |\n",
    "| --- | --- |\n",
    "| `statistics.median(seq)` | 시퀀스의 중앙값 |\n",
    "| `statistics.mean(seq)` | 시퀀스의 산술 평균 | \n",
    "| `statistics.harmonic_mean(seq)` | 시퀀스의 조화 평균 |\n",
    "| `statistics.stdev(seq)` | 시퀀스의 표본 표준편차 |\n",
    "| `statistics.variance(seq)` | 시퀀스의 표본 분산 |"
   ]
  },
  {
   "cell_type": "code",
   "execution_count": 23,
   "id": "7864a213",
   "metadata": {},
   "outputs": [
    {
     "name": "stdout",
     "output_type": "stream",
     "text": [
      "74.0\n",
      "70.7\n",
      "66.42170307761845\n",
      "17.217884758458442\n",
      "296.4555555555556\n"
     ]
    }
   ],
   "source": [
    "import statistics\n",
    "values = [56, 44, 67, 47, 82, 67, 92, 89, 81, 82]\n",
    "print(statistics.median(values))\n",
    "print(statistics.mean(values))\n",
    "print(statistics.harmonic_mean(values))\n",
    "print(statistics.stdev(values))\n",
    "print(statistics.variance(values))"
   ]
  },
  {
   "cell_type": "markdown",
   "id": "ee29b15b",
   "metadata": {},
   "source": [
    "### 랜덤 모듈(random)\n",
    "\n",
    "* 랜덤 모듈을 사용하기 위해서는 `import random` 필요\n",
    "  + `random.random()`: 0.0~1.0 미만의 실수값 반환\n",
    "  + `random.randint(1, 10)`: 1~10 사이의 정수 반환\n",
    "  + `random.randrange(0, 10, 2)`: 0~10 미만의 2의 배수만 반환\n",
    "  + `random.choice()`: 자료형 변수에서 임의의 값 반환\n",
    "  + `random.sample()`: 자료형 변수에서 필요한 개수만큼 반환\n",
    "  + `random.shuffle()`: 자료형 변수 내용을 랜덤으로 셔플"
   ]
  },
  {
   "cell_type": "code",
   "execution_count": 24,
   "id": "7789269d",
   "metadata": {},
   "outputs": [
    {
     "name": "stdout",
     "output_type": "stream",
     "text": [
      "0.33821336206976615\n",
      "2\n",
      "0\n"
     ]
    }
   ],
   "source": [
    "import random\n",
    "print(random.random())\n",
    "print(random.randint(1, 10))\n",
    "print(random.randrange(0, 10, 2))"
   ]
  },
  {
   "cell_type": "code",
   "execution_count": 25,
   "id": "5ef7b1ca",
   "metadata": {},
   "outputs": [
    {
     "name": "stdout",
     "output_type": "stream",
     "text": [
      "[10, 20, 30, 40, 50]\n",
      "40\n",
      "[10, 20]\n",
      "[10, 20, 50, 40, 30]\n"
     ]
    }
   ],
   "source": [
    "li = [10, 20, 30, 40, 50]\n",
    "print(li)\n",
    "print(random.choice(li))\n",
    "print(random.sample(li, 2))\n",
    "random.shuffle(li)\n",
    "print(li)"
   ]
  }
 ],
 "metadata": {
  "kernelspec": {
   "display_name": "Python 3",
   "language": "python",
   "name": "python3"
  },
  "language_info": {
   "codemirror_mode": {
    "name": "ipython",
    "version": 3
   },
   "file_extension": ".py",
   "mimetype": "text/x-python",
   "name": "python",
   "nbconvert_exporter": "python",
   "pygments_lexer": "ipython3",
   "version": "3.8.8"
  }
 },
 "nbformat": 4,
 "nbformat_minor": 5
}
