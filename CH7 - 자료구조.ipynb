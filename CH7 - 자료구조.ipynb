{
 "cells": [
  {
   "cell_type": "markdown",
   "metadata": {},
   "source": [
    "# CHAPTER07 자료구조"
   ]
  },
  {
   "cell_type": "markdown",
   "metadata": {},
   "source": [
    "## 7.2 스택과 큐"
   ]
  },
  {
   "cell_type": "markdown",
   "metadata": {},
   "source": [
    "### stack"
   ]
  },
  {
   "cell_type": "code",
   "execution_count": 1,
   "metadata": {},
   "outputs": [
    {
     "data": {
      "text/plain": [
       "[1, 2, 3, 4, 5, 10]"
      ]
     },
     "execution_count": 1,
     "metadata": {},
     "output_type": "execute_result"
    }
   ],
   "source": [
    "a = [1, 2, 3, 4, 5]\n",
    "a.append(10)\n",
    "a"
   ]
  },
  {
   "cell_type": "code",
   "execution_count": 2,
   "metadata": {},
   "outputs": [
    {
     "data": {
      "text/plain": [
       "[1, 2, 3, 4, 5, 10, 20]"
      ]
     },
     "execution_count": 2,
     "metadata": {},
     "output_type": "execute_result"
    }
   ],
   "source": [
    "a.append(20)\n",
    "a"
   ]
  },
  {
   "cell_type": "code",
   "execution_count": 3,
   "metadata": {},
   "outputs": [
    {
     "data": {
      "text/plain": [
       "20"
      ]
     },
     "execution_count": 3,
     "metadata": {},
     "output_type": "execute_result"
    }
   ],
   "source": [
    "a.pop()"
   ]
  },
  {
   "cell_type": "code",
   "execution_count": 4,
   "metadata": {},
   "outputs": [
    {
     "data": {
      "text/plain": [
       "10"
      ]
     },
     "execution_count": 4,
     "metadata": {},
     "output_type": "execute_result"
    }
   ],
   "source": [
    "a.pop()"
   ]
  },
  {
   "cell_type": "code",
   "execution_count": 5,
   "metadata": {},
   "outputs": [
    {
     "name": "stdout",
     "output_type": "stream",
     "text": [
      "Input a word:PYTHON\n",
      "word_list: \t ['P', 'Y', 'T', 'H', 'O', 'N']\n",
      "result: \t ['N', 'O', 'H', 'T', 'Y', 'P']\n",
      "word[::-1]: \t  NOHTYP\n"
     ]
    }
   ],
   "source": [
    "# 7-1 stack\n",
    "word = input(\"Input a word:\")\n",
    "word_list = list(word)\n",
    "print(\"word_list: \\t\" , word_list)\n",
    "\n",
    "result = []\n",
    "for _ in range(len(word_list)):\n",
    "    result.append(word_list.pop())\n",
    "    \n",
    "print(\"result: \\t\", result)\n",
    "print(\"word[::-1]: \\t \", word[::-1])"
   ]
  },
  {
   "cell_type": "markdown",
   "metadata": {},
   "source": [
    "### Queue"
   ]
  },
  {
   "cell_type": "code",
   "execution_count": 6,
   "metadata": {},
   "outputs": [
    {
     "data": {
      "text/plain": [
       "[1, 2, 3, 4, 5, 10, 20]"
      ]
     },
     "execution_count": 6,
     "metadata": {},
     "output_type": "execute_result"
    }
   ],
   "source": [
    "a = [1, 2, 3, 4, 5]\n",
    "a.append(10)\n",
    "a.append(20)\n",
    "a"
   ]
  },
  {
   "cell_type": "code",
   "execution_count": 7,
   "metadata": {},
   "outputs": [
    {
     "data": {
      "text/plain": [
       "1"
      ]
     },
     "execution_count": 7,
     "metadata": {},
     "output_type": "execute_result"
    }
   ],
   "source": [
    "a.pop(0)"
   ]
  },
  {
   "cell_type": "code",
   "execution_count": 8,
   "metadata": {},
   "outputs": [
    {
     "data": {
      "text/plain": [
       "2"
      ]
     },
     "execution_count": 8,
     "metadata": {},
     "output_type": "execute_result"
    }
   ],
   "source": [
    "a.pop(0)"
   ]
  },
  {
   "cell_type": "markdown",
   "metadata": {},
   "source": [
    "## 7.3.1 tuple\n",
    "- 리스트와 유사하지만 변경 불가능한 자료구조\n",
    "- () 를 사용하여 정의"
   ]
  },
  {
   "cell_type": "code",
   "execution_count": 9,
   "metadata": {},
   "outputs": [
    {
     "name": "stdout",
     "output_type": "stream",
     "text": [
      "len(t):  3\n",
      "(1, 2, 3, 1, 2, 3) (1, 2, 3, 1, 2, 3)\n"
     ]
    }
   ],
   "source": [
    "t = (1, 2, 3)\n",
    "print(\"len(t): \", len(t))\n",
    "print(t + t, t * 2)"
   ]
  },
  {
   "cell_type": "code",
   "execution_count": 10,
   "metadata": {},
   "outputs": [
    {
     "data": {
      "text/plain": [
       "2"
      ]
     },
     "execution_count": 10,
     "metadata": {},
     "output_type": "execute_result"
    }
   ],
   "source": [
    "t[1]"
   ]
  },
  {
   "cell_type": "code",
   "execution_count": 11,
   "metadata": {},
   "outputs": [
    {
     "ename": "TypeError",
     "evalue": "'tuple' object does not support item assignment",
     "output_type": "error",
     "traceback": [
      "\u001b[1;31m---------------------------------------------------------------------------\u001b[0m",
      "\u001b[1;31mTypeError\u001b[0m                                 Traceback (most recent call last)",
      "\u001b[1;32m<ipython-input-11-74a2d3623a6a>\u001b[0m in \u001b[0;36m<module>\u001b[1;34m\u001b[0m\n\u001b[1;32m----> 1\u001b[1;33m \u001b[0mt\u001b[0m\u001b[1;33m[\u001b[0m\u001b[1;36m1\u001b[0m\u001b[1;33m]\u001b[0m \u001b[1;33m=\u001b[0m \u001b[1;36m5\u001b[0m  \u001b[1;31m# 튜플은 값 변경 불가능\u001b[0m\u001b[1;33m\u001b[0m\u001b[1;33m\u001b[0m\u001b[0m\n\u001b[0m",
      "\u001b[1;31mTypeError\u001b[0m: 'tuple' object does not support item assignment"
     ]
    }
   ],
   "source": [
    "t[1] = 5  # 튜플은 값 변경 불가능"
   ]
  },
  {
   "cell_type": "markdown",
   "metadata": {},
   "source": [
    "### tuple indexing"
   ]
  },
  {
   "cell_type": "code",
   "execution_count": 12,
   "metadata": {},
   "outputs": [
    {
     "name": "stdout",
     "output_type": "stream",
     "text": [
      "1 2\n"
     ]
    }
   ],
   "source": [
    "print(t[0], t[-2])"
   ]
  },
  {
   "cell_type": "markdown",
   "metadata": {},
   "source": [
    "### nested tuple indexing"
   ]
  },
  {
   "cell_type": "code",
   "execution_count": 13,
   "metadata": {},
   "outputs": [
    {
     "name": "stdout",
     "output_type": "stream",
     "text": [
      "(1, 2, 3, ('One', 'Two', 'Three'))\n",
      "('One', 'Two', 'Three')\n",
      "Two\n"
     ]
    }
   ],
   "source": [
    "t = (1, 2, 3, ('One', 'Two', 'Three'))\n",
    "print(t)\n",
    "print(t[3])\n",
    "print(t[3][1])"
   ]
  },
  {
   "cell_type": "markdown",
   "metadata": {},
   "source": [
    "## 7.3.2 set\n",
    "- 데이터 중복을 허용하지 않는 자료구조\n",
    "- 순서가 없는 데이터 집합\n",
    "- 인덱싱 불가"
   ]
  },
  {
   "cell_type": "code",
   "execution_count": 14,
   "metadata": {},
   "outputs": [
    {
     "name": "stdout",
     "output_type": "stream",
     "text": [
      "{1, 2, 3}\n",
      "{4, 5, 6}\n"
     ]
    }
   ],
   "source": [
    "s1 = set([1, 2, 3, 1, 2, 3])\n",
    "s2 = {4, 5, 6}\n",
    "print(s1)\n",
    "print(s2)"
   ]
  },
  {
   "cell_type": "code",
   "execution_count": 15,
   "metadata": {},
   "outputs": [
    {
     "data": {
      "text/plain": [
       "{1, 2, 3}"
      ]
     },
     "execution_count": 15,
     "metadata": {},
     "output_type": "execute_result"
    }
   ],
   "source": [
    "# add() : 원소 하나를 추가\n",
    "s1.add(1)   # 1을 추가하는 명령이지만, 중복 불허로 추가되지 않음\n",
    "s1"
   ]
  },
  {
   "cell_type": "code",
   "execution_count": 16,
   "metadata": {},
   "outputs": [
    {
     "data": {
      "text/plain": [
       "{2, 3}"
      ]
     },
     "execution_count": 16,
     "metadata": {},
     "output_type": "execute_result"
    }
   ],
   "source": [
    "# remove() : 원소 하나를 제거\n",
    "s1.remove(1)\n",
    "s1"
   ]
  },
  {
   "cell_type": "code",
   "execution_count": 17,
   "metadata": {},
   "outputs": [
    {
     "data": {
      "text/plain": [
       "{1, 2, 3, 4, 5, 6, 7}"
      ]
     },
     "execution_count": 17,
     "metadata": {},
     "output_type": "execute_result"
    }
   ],
   "source": [
    "# update() : 새로운 리스트를 그대로 추가\n",
    "s1.update([1, 4, 5, 6, 7])\n",
    "s1"
   ]
  },
  {
   "cell_type": "code",
   "execution_count": 18,
   "metadata": {},
   "outputs": [
    {
     "data": {
      "text/plain": [
       "{1, 2, 4, 5, 6, 7}"
      ]
     },
     "execution_count": 18,
     "metadata": {},
     "output_type": "execute_result"
    }
   ],
   "source": [
    "# discard() : 원소 하나를 제거\n",
    "s1.discard(3)\n",
    "s1"
   ]
  },
  {
   "cell_type": "code",
   "execution_count": 19,
   "metadata": {},
   "outputs": [
    {
     "data": {
      "text/plain": [
       "set()"
      ]
     },
     "execution_count": 19,
     "metadata": {},
     "output_type": "execute_result"
    }
   ],
   "source": [
    "# clear() : 모든 변수를 지움 \n",
    "s1.clear()\n",
    "s1"
   ]
  },
  {
   "cell_type": "markdown",
   "metadata": {},
   "source": [
    "### set operators, methods\n",
    "- 교집합 : &, intersection()\n",
    "- 합집합 : |, union()\n",
    "- 차집합 : -, difference()\n",
    "- 대칭차 : ^, symmetric_difference()"
   ]
  },
  {
   "cell_type": "code",
   "execution_count": 20,
   "metadata": {},
   "outputs": [
    {
     "name": "stdout",
     "output_type": "stream",
     "text": [
      "{10, 20, 30}\n",
      "{40, 50, 30}\n"
     ]
    }
   ],
   "source": [
    "s1 = {10, 20, 20, 30}\n",
    "s2 = {30, 30, 40, 50}\n",
    "print(s1)\n",
    "print(s2)"
   ]
  },
  {
   "cell_type": "code",
   "execution_count": 21,
   "metadata": {},
   "outputs": [
    {
     "name": "stdout",
     "output_type": "stream",
     "text": [
      "{30}\n",
      "{50, 20, 40, 10, 30}\n",
      "{10, 20}\n",
      "{40, 10, 50, 20}\n"
     ]
    }
   ],
   "source": [
    "print(s1 & s2)\n",
    "print(s1 | s2)\n",
    "print(s1 - s2)\n",
    "print(s1 ^ s2)"
   ]
  },
  {
   "cell_type": "code",
   "execution_count": 22,
   "metadata": {},
   "outputs": [
    {
     "name": "stdout",
     "output_type": "stream",
     "text": [
      "{30}\n",
      "{50, 20, 40, 10, 30}\n",
      "{10, 20}\n",
      "{40, 10, 50, 20}\n"
     ]
    }
   ],
   "source": [
    "print(s1.intersection(s2))\n",
    "print(s1.union(s2))\n",
    "print(s1.difference(s2))\n",
    "print(s1.symmetric_difference(s2))"
   ]
  },
  {
   "cell_type": "markdown",
   "metadata": {},
   "source": [
    "## 7.4 dictionary\n",
    "- key, value 의 쌍으로 구성된 자료구조\n",
    "- 순서가 없는 데이터\n",
    "- key를 이용하여 value 검색\n",
    "- 동일한 key가 있을 경우 덮어씀"
   ]
  },
  {
   "cell_type": "code",
   "execution_count": 23,
   "metadata": {},
   "outputs": [
    {
     "name": "stdout",
     "output_type": "stream",
     "text": [
      "{20140012: 'Sungchul', 20140059: 'Jiyong', 20140058: 'JaeHong'}\n"
     ]
    }
   ],
   "source": [
    "student_info = {20140012: 'Sungchul', 20140059: 'Jiyong', 20140058: 'JaeHong'}\n",
    "print(student_info)"
   ]
  },
  {
   "cell_type": "code",
   "execution_count": 24,
   "metadata": {},
   "outputs": [
    {
     "data": {
      "text/plain": [
       "'Sungchul'"
      ]
     },
     "execution_count": 24,
     "metadata": {},
     "output_type": "execute_result"
    }
   ],
   "source": [
    "student_info[20140012]"
   ]
  },
  {
   "cell_type": "code",
   "execution_count": 25,
   "metadata": {},
   "outputs": [
    {
     "data": {
      "text/plain": [
       "{20140012: 'Janhyeok',\n",
       " 20140059: 'Jiyong',\n",
       " 20140058: 'JaeHong',\n",
       " 20140039: 'Wonchul'}"
      ]
     },
     "execution_count": 25,
     "metadata": {},
     "output_type": "execute_result"
    }
   ],
   "source": [
    "student_info[20140012] = 'Janhyeok'\n",
    "student_info[20140039] = 'Wonchul'\n",
    "student_info"
   ]
  },
  {
   "cell_type": "markdown",
   "metadata": {},
   "source": [
    "### dictionary methods"
   ]
  },
  {
   "cell_type": "code",
   "execution_count": 26,
   "metadata": {},
   "outputs": [
    {
     "data": {
      "text/plain": [
       "{'America': 1, 'Korea': 82, 'China': 86, 'Japan': 81}"
      ]
     },
     "execution_count": 26,
     "metadata": {},
     "output_type": "execute_result"
    }
   ],
   "source": [
    "country_code = {'America': 1, 'Korea': 82, 'China': 86, 'Japan':81}\n",
    "country_code"
   ]
  },
  {
   "cell_type": "code",
   "execution_count": 27,
   "metadata": {},
   "outputs": [
    {
     "name": "stdout",
     "output_type": "stream",
     "text": [
      "dict_keys(['America', 'Korea', 'China', 'Japan'])\n",
      "dict_values([1, 82, 86, 81])\n",
      "dict_items([('America', 1), ('Korea', 82), ('China', 86), ('Japan', 81)])\n"
     ]
    }
   ],
   "source": [
    "print(country_code.keys())\n",
    "print(country_code.values())\n",
    "print(country_code.items())"
   ]
  },
  {
   "cell_type": "code",
   "execution_count": 28,
   "metadata": {},
   "outputs": [
    {
     "data": {
      "text/plain": [
       "True"
      ]
     },
     "execution_count": 28,
     "metadata": {},
     "output_type": "execute_result"
    }
   ],
   "source": [
    "'Korea' in country_code.keys()"
   ]
  },
  {
   "cell_type": "code",
   "execution_count": 29,
   "metadata": {},
   "outputs": [
    {
     "data": {
      "text/plain": [
       "False"
      ]
     },
     "execution_count": 29,
     "metadata": {},
     "output_type": "execute_result"
    }
   ],
   "source": [
    "'German' in country_code.keys()"
   ]
  },
  {
   "cell_type": "code",
   "execution_count": 30,
   "metadata": {},
   "outputs": [
    {
     "data": {
      "text/plain": [
       "True"
      ]
     },
     "execution_count": 30,
     "metadata": {},
     "output_type": "execute_result"
    }
   ],
   "source": [
    "82 in country_code.values()"
   ]
  },
  {
   "cell_type": "code",
   "execution_count": 31,
   "metadata": {},
   "outputs": [
    {
     "data": {
      "text/plain": [
       "False"
      ]
     },
     "execution_count": 31,
     "metadata": {},
     "output_type": "execute_result"
    }
   ],
   "source": [
    "49 in country_code.values()"
   ]
  },
  {
   "cell_type": "markdown",
   "metadata": {},
   "source": [
    "## 7.5 collections 모듈\n",
    "파이썬의 내장 자료구조 모듈\n",
    "\n",
    "컨테이너 데이터형"
   ]
  },
  {
   "cell_type": "code",
   "execution_count": 32,
   "metadata": {},
   "outputs": [],
   "source": [
    "from collections import deque, OrderedDict, defaultdict, Counter, namedtuple"
   ]
  },
  {
   "cell_type": "markdown",
   "metadata": {},
   "source": [
    "### deque\n",
    "양쪽 끝에서 빠르게 추가와 삭제를 할 수 있는 리스트형 컨테이너"
   ]
  },
  {
   "cell_type": "code",
   "execution_count": 33,
   "metadata": {},
   "outputs": [
    {
     "name": "stdout",
     "output_type": "stream",
     "text": [
      "deque([0, 1, 2, 3, 4])\n"
     ]
    }
   ],
   "source": [
    "deque_list = deque()\n",
    "for i in range(5):\n",
    "    deque_list.append(i)\n",
    "\n",
    "print(deque_list)"
   ]
  },
  {
   "cell_type": "markdown",
   "metadata": {},
   "source": [
    "**deque_list.pop()**\n",
    "\n",
    "- 오른쪽 요소부터 하나씩 추출\n",
    "- 스택처럼 나중에 넣은 값부터 하나씩 추출할 수 있음"
   ]
  },
  {
   "cell_type": "code",
   "execution_count": 34,
   "metadata": {},
   "outputs": [
    {
     "data": {
      "text/plain": [
       "4"
      ]
     },
     "execution_count": 34,
     "metadata": {},
     "output_type": "execute_result"
    }
   ],
   "source": [
    "deque_list.pop()"
   ]
  },
  {
   "cell_type": "code",
   "execution_count": 35,
   "metadata": {},
   "outputs": [
    {
     "data": {
      "text/plain": [
       "3"
      ]
     },
     "execution_count": 35,
     "metadata": {},
     "output_type": "execute_result"
    }
   ],
   "source": [
    "deque_list.pop()"
   ]
  },
  {
   "cell_type": "code",
   "execution_count": 36,
   "metadata": {},
   "outputs": [
    {
     "data": {
      "text/plain": [
       "2"
      ]
     },
     "execution_count": 36,
     "metadata": {},
     "output_type": "execute_result"
    }
   ],
   "source": [
    "deque_list.pop()"
   ]
  },
  {
   "cell_type": "code",
   "execution_count": 37,
   "metadata": {},
   "outputs": [
    {
     "data": {
      "text/plain": [
       "deque([0, 1])"
      ]
     },
     "execution_count": 37,
     "metadata": {},
     "output_type": "execute_result"
    }
   ],
   "source": [
    "deque_list"
   ]
  },
  {
   "cell_type": "markdown",
   "metadata": {},
   "source": [
    "**appendleft()**\n",
    "\n",
    "- 먼저 들어간 값부터 출력될 수 있음"
   ]
  },
  {
   "cell_type": "code",
   "execution_count": 38,
   "metadata": {},
   "outputs": [
    {
     "name": "stdout",
     "output_type": "stream",
     "text": [
      "deque([4, 3, 2, 1, 0])\n"
     ]
    }
   ],
   "source": [
    "deque_list = deque()\n",
    "for i in range(5):\n",
    "    deque_list.appendleft(i)\n",
    "\n",
    "print(deque_list)"
   ]
  },
  {
   "cell_type": "markdown",
   "metadata": {},
   "source": [
    "**rotate()**\n",
    "\n",
    "- 기존 deque에 저장된 요소들의 값 인덱스를 바꾸는 기법"
   ]
  },
  {
   "cell_type": "code",
   "execution_count": 39,
   "metadata": {},
   "outputs": [
    {
     "data": {
      "text/plain": [
       "deque([1, 0, 4, 3, 2])"
      ]
     },
     "execution_count": 39,
     "metadata": {},
     "output_type": "execute_result"
    }
   ],
   "source": [
    "deque_list.rotate(2)\n",
    "deque_list\n",
    "# 2칸 밀림"
   ]
  },
  {
   "cell_type": "code",
   "execution_count": 40,
   "metadata": {},
   "outputs": [
    {
     "data": {
      "text/plain": [
       "deque([4, 3, 2, 1, 0])"
      ]
     },
     "execution_count": 40,
     "metadata": {},
     "output_type": "execute_result"
    }
   ],
   "source": [
    "deque_list.rotate(3)\n",
    "deque_list"
   ]
  },
  {
   "cell_type": "code",
   "execution_count": 41,
   "metadata": {},
   "outputs": [
    {
     "data": {
      "text/plain": [
       "deque([0, 1, 2, 3, 4])"
      ]
     },
     "execution_count": 41,
     "metadata": {},
     "output_type": "execute_result"
    }
   ],
   "source": [
    "# reversed() : 기존과 반대로 데이터 저장\n",
    "deque(reversed(deque_list))"
   ]
  },
  {
   "cell_type": "code",
   "execution_count": 42,
   "metadata": {},
   "outputs": [
    {
     "data": {
      "text/plain": [
       "deque([4, 3, 2, 1, 0, 5, 6, 7])"
      ]
     },
     "execution_count": 42,
     "metadata": {},
     "output_type": "execute_result"
    }
   ],
   "source": [
    "# extend() : 리스트가 통째로 오른쪽으로 추가\n",
    "deque_list.extend([5, 6, 7])\n",
    "deque_list"
   ]
  },
  {
   "cell_type": "code",
   "execution_count": 43,
   "metadata": {},
   "outputs": [
    {
     "data": {
      "text/plain": [
       "deque([9, 8, 4, 3, 2, 1, 0, 5, 6, 7])"
      ]
     },
     "execution_count": 43,
     "metadata": {},
     "output_type": "execute_result"
    }
   ],
   "source": [
    "# extendleft() : 리스트가 통째로 왼쪽으로 추가\n",
    "deque_list.extendleft([8, 9])\n",
    "deque_list"
   ]
  },
  {
   "cell_type": "markdown",
   "metadata": {},
   "source": [
    "### OrderedDict\n",
    "항목이 추가된 순서를 기억하는 딕셔너리 서브 클래스"
   ]
  },
  {
   "cell_type": "code",
   "execution_count": 44,
   "metadata": {},
   "outputs": [
    {
     "name": "stdout",
     "output_type": "stream",
     "text": [
      "x 100\n",
      "l 500\n",
      "y 200\n",
      "z 300\n"
     ]
    }
   ],
   "source": [
    "# 7-2 ordereddict1\n",
    "# 딕셔너리는 순서를 보장하지 않는 객체\n",
    "d = {}\n",
    "\n",
    "d['x'] = 100\n",
    "d['l'] = 500\n",
    "d['y'] = 200\n",
    "d['z'] = 300\n",
    "\n",
    "for k, v in d.items():\n",
    "    print(k, v)"
   ]
  },
  {
   "cell_type": "code",
   "execution_count": 45,
   "metadata": {},
   "outputs": [
    {
     "name": "stdout",
     "output_type": "stream",
     "text": [
      "x 100\n",
      "y 200\n",
      "z 300\n",
      "l 400\n"
     ]
    }
   ],
   "source": [
    "# 7-3 ordereddict2\n",
    "# OrderedDict는 키의 순서를 보장\n",
    "# 입력한 키의 순서(x, y, z, l]대로 화면에 결과 출력\n",
    "d = OrderedDict()\n",
    "\n",
    "d['x'] = 100\n",
    "d['y'] = 200\n",
    "d['z'] = 300\n",
    "d['l'] = 400\n",
    "\n",
    "for k, v in d.items():\n",
    "    print(k, v)"
   ]
  },
  {
   "cell_type": "code",
   "execution_count": 46,
   "metadata": {},
   "outputs": [
    {
     "name": "stdout",
     "output_type": "stream",
     "text": [
      "l 400\n",
      "x 100\n",
      "y 200\n",
      "z 300\n"
     ]
    }
   ],
   "source": [
    "# 7-4 ordereddict3\n",
    "# 키를 기준으로 정렬한 후, 다시 OrderedDict로 감싸주는 방식\n",
    "# 기존의 딕셔너리나 리스트의 순서를 지키면서 딕셔너리 형태로 관리 가능\n",
    "def sort_by_key(t):\n",
    "    return t[0]\n",
    "\n",
    "d = dict()\n",
    "d['x'] = 100\n",
    "d['y'] = 200\n",
    "d['z'] = 300\n",
    "d['l'] = 400\n",
    "\n",
    "for k, v in OrderedDict(sorted(d.items(), key=sort_by_key)).items():\n",
    "    print(k, v)"
   ]
  },
  {
   "cell_type": "code",
   "execution_count": 47,
   "metadata": {},
   "outputs": [
    {
     "data": {
      "text/plain": [
       "[('l', 400), ('x', 100), ('y', 200), ('z', 300)]"
      ]
     },
     "execution_count": 47,
     "metadata": {},
     "output_type": "execute_result"
    }
   ],
   "source": [
    "sorted(d.items(), key=sort_by_key)"
   ]
  },
  {
   "cell_type": "code",
   "execution_count": 48,
   "metadata": {},
   "outputs": [
    {
     "name": "stdout",
     "output_type": "stream",
     "text": [
      "x 100\n",
      "y 200\n",
      "z 300\n",
      "l 400\n"
     ]
    }
   ],
   "source": [
    "# 값 기준으로 정렬한 후, 다시 OrderedDict로 감싸주는 방식\n",
    "def sort_by_value(t):\n",
    "    return t[1]\n",
    "\n",
    "d = dict()\n",
    "d['x'] = 100\n",
    "d['y'] = 200\n",
    "d['z'] = 300\n",
    "d['l'] = 400\n",
    "\n",
    "for k, v in OrderedDict(sorted(d.items(), key=sort_by_value)).items():\n",
    "    print(k, v)"
   ]
  },
  {
   "cell_type": "markdown",
   "metadata": {},
   "source": [
    "### defaultdict\n",
    "- 누락된 값을 제공하기 위해 팩토리 함수를 호출하는 딕셔너리 서브 클래스\n",
    "- 딕셔너리의 변수를 생성할 때 키에 기본값을 지정하는 방법"
   ]
  },
  {
   "cell_type": "code",
   "execution_count": 49,
   "metadata": {},
   "outputs": [
    {
     "ename": "KeyError",
     "evalue": "'first'",
     "output_type": "error",
     "traceback": [
      "\u001b[1;31m---------------------------------------------------------------------------\u001b[0m",
      "\u001b[1;31mKeyError\u001b[0m                                  Traceback (most recent call last)",
      "\u001b[1;32m<ipython-input-49-af39de597b46>\u001b[0m in \u001b[0;36m<module>\u001b[1;34m\u001b[0m\n\u001b[0;32m      1\u001b[0m \u001b[1;31m# 일반 딕셔너리\u001b[0m\u001b[1;33m\u001b[0m\u001b[1;33m\u001b[0m\u001b[1;33m\u001b[0m\u001b[0m\n\u001b[0;32m      2\u001b[0m \u001b[0md\u001b[0m \u001b[1;33m=\u001b[0m \u001b[0mdict\u001b[0m\u001b[1;33m(\u001b[0m\u001b[1;33m)\u001b[0m\u001b[1;33m\u001b[0m\u001b[1;33m\u001b[0m\u001b[0m\n\u001b[1;32m----> 3\u001b[1;33m \u001b[0mprint\u001b[0m\u001b[1;33m(\u001b[0m\u001b[0md\u001b[0m\u001b[1;33m[\u001b[0m\u001b[1;34m\"first\"\u001b[0m\u001b[1;33m]\u001b[0m\u001b[1;33m)\u001b[0m\u001b[1;33m\u001b[0m\u001b[1;33m\u001b[0m\u001b[0m\n\u001b[0m\u001b[0;32m      4\u001b[0m \u001b[1;31m# 코드에서 first의 키 값을 별도로 생성하지 않은 채 바로 호출하여 오류 발생\u001b[0m\u001b[1;33m\u001b[0m\u001b[1;33m\u001b[0m\u001b[1;33m\u001b[0m\u001b[0m\n",
      "\u001b[1;31mKeyError\u001b[0m: 'first'"
     ]
    }
   ],
   "source": [
    "# 일반 딕셔너리\n",
    "d = dict()\n",
    "print(d[\"first\"])\n",
    "# 코드에서 first의 키 값을 별도로 생성하지 않은 채 바로 호출하여 오류 발생"
   ]
  },
  {
   "cell_type": "code",
   "execution_count": 50,
   "metadata": {},
   "outputs": [
    {
     "name": "stdout",
     "output_type": "stream",
     "text": [
      "0\n"
     ]
    }
   ],
   "source": [
    "# 7-6 defaultdict2\n",
    "d = defaultdict(lambda: 0)  # default값을 0으로 설정\n",
    "print(d[\"first\"]) "
   ]
  },
  {
   "cell_type": "code",
   "execution_count": 51,
   "metadata": {},
   "outputs": [
    {
     "name": "stdout",
     "output_type": "stream",
     "text": [
      "dict_items([('yellow', [1, 3]), ('blue', [2, 4]), ('red', [1])])\n"
     ]
    }
   ],
   "source": [
    "# 7-7 defaultdict3\n",
    "# list를 default_factory로 사용. 키-값 시퀀스를 리스트의 딕셔너리로 그룹화\n",
    "s = [('yellow', 1), ('blue', 2), ('yellow', 3), ('blue', 4), ('red', 1)]\n",
    "d = defaultdict(list)\n",
    "\n",
    "for k, v in s:\n",
    "    d[k].append(v)\n",
    "    \n",
    "print(d.items())"
   ]
  },
  {
   "cell_type": "code",
   "execution_count": 52,
   "metadata": {},
   "outputs": [
    {
     "name": "stdout",
     "output_type": "stream",
     "text": [
      "dict_items([('yellow', {1, 3}), ('blue', {2, 4}), ('red', {1})])\n"
     ]
    }
   ],
   "source": [
    "# set를 default_factory로 사용. 집합의 딕셔너리 생성\n",
    "s = [('yellow', 1), ('blue', 2), ('yellow', 3), ('blue', 4), ('red', 1)]\n",
    "d = defaultdict(set)\n",
    "\n",
    "for k, v in s:\n",
    "    d[k].add(v)\n",
    "    \n",
    "print(d.items())"
   ]
  },
  {
   "cell_type": "markdown",
   "metadata": {},
   "source": [
    "### Counter\n",
    "- 시퀀스 자료형의 데이터 값의 개수를 세는 딕셔너리 서브 클래스"
   ]
  },
  {
   "cell_type": "code",
   "execution_count": 53,
   "metadata": {},
   "outputs": [
    {
     "data": {
      "text/plain": [
       "['g', 'a', 'l', 'l', 'a', 'h', 'a', 'd']"
      ]
     },
     "execution_count": 53,
     "metadata": {},
     "output_type": "execute_result"
    }
   ],
   "source": [
    "text = list('gallahad')\n",
    "text"
   ]
  },
  {
   "cell_type": "code",
   "execution_count": 54,
   "metadata": {},
   "outputs": [
    {
     "data": {
      "text/plain": [
       "Counter({'g': 1, 'a': 3, 'l': 2, 'h': 1, 'd': 1})"
      ]
     },
     "execution_count": 54,
     "metadata": {},
     "output_type": "execute_result"
    }
   ],
   "source": [
    "c = Counter(text)\n",
    "c"
   ]
  },
  {
   "cell_type": "code",
   "execution_count": 55,
   "metadata": {},
   "outputs": [
    {
     "data": {
      "text/plain": [
       "3"
      ]
     },
     "execution_count": 55,
     "metadata": {},
     "output_type": "execute_result"
    }
   ],
   "source": [
    "c['a']"
   ]
  },
  {
   "cell_type": "markdown",
   "metadata": {},
   "source": [
    "#### counter methods"
   ]
  },
  {
   "cell_type": "code",
   "execution_count": 56,
   "metadata": {},
   "outputs": [
    {
     "name": "stdout",
     "output_type": "stream",
     "text": [
      "Counter({'a': 4, 'b': 2, 'c': 0, 'd': -2})\n",
      "['a', 'a', 'a', 'a', 'b', 'b']\n"
     ]
    }
   ],
   "source": [
    "# elements(): 각 요소의 개수만큼 리스트형의 결과 출력. 1보다 작으면 무시\n",
    "c = Counter(a=4, b=2, c=0, d=-2)\n",
    "print(c)\n",
    "print(list(c.elements()))"
   ]
  },
  {
   "cell_type": "code",
   "execution_count": 57,
   "metadata": {},
   "outputs": [
    {
     "data": {
      "text/plain": [
       "[('a', 5), ('b', 2), ('r', 2)]"
      ]
     },
     "execution_count": 57,
     "metadata": {},
     "output_type": "execute_result"
    }
   ],
   "source": [
    "# most common(n) : 빈도수가 가장 높은 n개의 요소 반환.\n",
    "### n을 생략하면 모든 요소. 개수가 같은 요소는 처음 발견된 것 순서로.\n",
    "Counter('abracadabra').most_common(3)"
   ]
  },
  {
   "cell_type": "code",
   "execution_count": 58,
   "metadata": {},
   "outputs": [
    {
     "data": {
      "text/plain": [
       "[('a', 5), ('b', 2), ('r', 2), ('c', 1), ('d', 1)]"
      ]
     },
     "execution_count": 58,
     "metadata": {},
     "output_type": "execute_result"
    }
   ],
   "source": [
    "Counter('abracadabra').most_common()"
   ]
  },
  {
   "cell_type": "code",
   "execution_count": 59,
   "metadata": {},
   "outputs": [
    {
     "data": {
      "text/plain": [
       "Counter({'a': 3, 'b': 0, 'c': -3, 'd': -6})"
      ]
     },
     "execution_count": 59,
     "metadata": {},
     "output_type": "execute_result"
    }
   ],
   "source": [
    "# subtract : 요소의 개수 빼기\n",
    "c = Counter(a=4, b=2, c=0, d=-2)\n",
    "d = Counter(a=1, b=2, c=3, d=4)\n",
    "c.subtract(d)  # c-d\n",
    "c"
   ]
  },
  {
   "cell_type": "code",
   "execution_count": 60,
   "metadata": {},
   "outputs": [
    {
     "name": "stdout",
     "output_type": "stream",
     "text": [
      "Counter({'a': 5, 'b': 4, 'c': 3, 'd': 2})\n",
      "Counter({'a': 3})\n",
      "Counter({'b': 2, 'a': 1})\n",
      "Counter({'a': 4, 'd': 4, 'c': 3, 'b': 2})\n"
     ]
    }
   ],
   "source": [
    "# +, -, &, | : 0이하는 결과에서 제외\n",
    "c = Counter(a=4, b=2, c=0, d=-2)\n",
    "d = Counter(a=1, b=2, c=3, d=4)\n",
    "\n",
    "print(c + d)\n",
    "print(c - d)\n",
    "print(c & d)\n",
    "print(c | d)"
   ]
  },
  {
   "cell_type": "markdown",
   "metadata": {},
   "source": [
    "### namedtuple\n",
    "이름 붙은 필드를 갖는 튜플 서브 클래스를 만드는 팩토리 함수"
   ]
  },
  {
   "cell_type": "code",
   "execution_count": 61,
   "metadata": {},
   "outputs": [
    {
     "data": {
      "text/plain": [
       "Point(x=11, y=22)"
      ]
     },
     "execution_count": 61,
     "metadata": {},
     "output_type": "execute_result"
    }
   ],
   "source": [
    "Point = namedtuple('Point', ['x', 'y'])\n",
    "p = Point(11, y=22)\n",
    "p"
   ]
  },
  {
   "cell_type": "code",
   "execution_count": 62,
   "metadata": {},
   "outputs": [
    {
     "data": {
      "text/plain": [
       "(11, 22)"
      ]
     },
     "execution_count": 62,
     "metadata": {},
     "output_type": "execute_result"
    }
   ],
   "source": [
    "p.x, p.y"
   ]
  },
  {
   "cell_type": "code",
   "execution_count": 63,
   "metadata": {},
   "outputs": [
    {
     "data": {
      "text/plain": [
       "33"
      ]
     },
     "execution_count": 63,
     "metadata": {},
     "output_type": "execute_result"
    }
   ],
   "source": [
    "p[0] + p[1]"
   ]
  },
  {
   "cell_type": "code",
   "execution_count": 64,
   "metadata": {},
   "outputs": [
    {
     "data": {
      "text/plain": [
       "(11, 22)"
      ]
     },
     "execution_count": 64,
     "metadata": {},
     "output_type": "execute_result"
    }
   ],
   "source": [
    "x, y = p   #unpack\n",
    "x, y"
   ]
  },
  {
   "cell_type": "code",
   "execution_count": 65,
   "metadata": {},
   "outputs": [
    {
     "data": {
      "text/plain": [
       "33"
      ]
     },
     "execution_count": 65,
     "metadata": {},
     "output_type": "execute_result"
    }
   ],
   "source": [
    "p.x + p.y"
   ]
  },
  {
   "cell_type": "markdown",
   "metadata": {},
   "source": [
    "## lab : textmining"
   ]
  },
  {
   "cell_type": "code",
   "execution_count": 66,
   "metadata": {},
   "outputs": [
    {
     "name": "stdout",
     "output_type": "stream",
     "text": [
      "and 3\n",
      "to 3\n",
      "can 3\n",
      "a 2\n",
      "press 2\n",
      "release 2\n",
      "you 2\n",
      "is 1\n",
      "the 1\n",
      "quickest 1\n",
      "easiest 1\n",
      "way 1\n",
      "get 1\n",
      "free 1\n",
      "publicity. 1\n",
      "if 1\n",
      "well 1\n",
      "written, 1\n",
      "result 1\n",
      "in 1\n",
      "multiple 1\n",
      "published 1\n",
      "articles 1\n",
      "about 1\n",
      "your 1\n",
      "firm 1\n",
      "its 1\n",
      "products. 1\n",
      "that 1\n",
      "mean 1\n",
      "new 1\n",
      "prospects 1\n",
      "contacting 1\n",
      "asking 1\n",
      "sell 1\n",
      "them. 1\n",
      "... 1\n"
     ]
    }
   ],
   "source": [
    "text = \"\"\"A press release is the quickest and easiest way to get free publicity.\n",
    "If well written, a press can release can result in multiple published articles about \n",
    "your firm and its products. And that can mean new prospects contacting you asking you \n",
    "to sell to them. ...\"\"\".lower().split()\n",
    "\n",
    "word_count = defaultdict(lambda: 0)\n",
    "\n",
    "for word in text:\n",
    "    word_count[word] += 1\n",
    "for i, v in OrderedDict(sorted(word_count.items(), key=lambda t: t[1], reverse=True)).items():\n",
    "    print(i, v)\n"
   ]
  },
  {
   "cell_type": "code",
   "execution_count": 67,
   "metadata": {},
   "outputs": [
    {
     "data": {
      "text/plain": [
       "Counter({'a': 2,\n",
       "         'press': 2,\n",
       "         'release': 2,\n",
       "         'is': 1,\n",
       "         'the': 1,\n",
       "         'quickest': 1,\n",
       "         'and': 3,\n",
       "         'easiest': 1,\n",
       "         'way': 1,\n",
       "         'to': 3,\n",
       "         'get': 1,\n",
       "         'free': 1,\n",
       "         'publicity.': 1,\n",
       "         'if': 1,\n",
       "         'well': 1,\n",
       "         'written,': 1,\n",
       "         'can': 3,\n",
       "         'result': 1,\n",
       "         'in': 1,\n",
       "         'multiple': 1,\n",
       "         'published': 1,\n",
       "         'articles': 1,\n",
       "         'about': 1,\n",
       "         'your': 1,\n",
       "         'firm': 1,\n",
       "         'its': 1,\n",
       "         'products.': 1,\n",
       "         'that': 1,\n",
       "         'mean': 1,\n",
       "         'new': 1,\n",
       "         'prospects': 1,\n",
       "         'contacting': 1,\n",
       "         'you': 2,\n",
       "         'asking': 1,\n",
       "         'sell': 1,\n",
       "         'them.': 1,\n",
       "         '...': 1})"
      ]
     },
     "execution_count": 67,
     "metadata": {},
     "output_type": "execute_result"
    }
   ],
   "source": [
    "c = Counter(text)\n",
    "c"
   ]
  },
  {
   "cell_type": "code",
   "execution_count": 68,
   "metadata": {},
   "outputs": [
    {
     "data": {
      "text/plain": [
       "3"
      ]
     },
     "execution_count": 68,
     "metadata": {},
     "output_type": "execute_result"
    }
   ],
   "source": [
    "c['and']"
   ]
  },
  {
   "cell_type": "markdown",
   "metadata": {},
   "source": [
    "## 연습문제"
   ]
  },
  {
   "cell_type": "code",
   "execution_count": 69,
   "metadata": {},
   "outputs": [
    {
     "name": "stdout",
     "output_type": "stream",
     "text": [
      "243\n",
      "3\n",
      "1\n",
      "<class 'dict'>\n"
     ]
    }
   ],
   "source": [
    "# 1 \n",
    "print(3 ** 5)\n",
    "print(15 % 4)\n",
    "a = 4\n",
    "a -= 3\n",
    "print(a)\n",
    "a = {'prof.Choi' : 'The best'}\n",
    "print(type(a))"
   ]
  },
  {
   "cell_type": "code",
   "execution_count": 70,
   "metadata": {},
   "outputs": [
    {
     "name": "stdout",
     "output_type": "stream",
     "text": [
      "[1, 3, 4, 5]\n"
     ]
    }
   ],
   "source": [
    "# 2 \n",
    "list_1 = [0, 3, 1, 7, 5, 0, 5, 8, 0, 4]\n",
    "def quiz_2(list_data):\n",
    "    a = set(list_data)\n",
    "    return (list(a)[1:5])\n",
    "print(quiz_2(list_1))"
   ]
  },
  {
   "cell_type": "code",
   "execution_count": 71,
   "metadata": {},
   "outputs": [
    {
     "data": {
      "text/plain": [
       "{0, 1, 3, 4, 5, 7, 8}"
      ]
     },
     "execution_count": 71,
     "metadata": {},
     "output_type": "execute_result"
    }
   ],
   "source": [
    "set(list_1)"
   ]
  },
  {
   "cell_type": "code",
   "execution_count": 72,
   "metadata": {},
   "outputs": [],
   "source": [
    "# 3\n",
    "country_code = {\"America\":1, \"Korea\":82, \"China\":86, \"Japan\":81}"
   ]
  },
  {
   "cell_type": "code",
   "execution_count": 73,
   "metadata": {},
   "outputs": [
    {
     "data": {
      "text/plain": [
       "dict_values([1, 82, 86, 81])"
      ]
     },
     "execution_count": 73,
     "metadata": {},
     "output_type": "execute_result"
    }
   ],
   "source": [
    "country_code.values()"
   ]
  },
  {
   "cell_type": "code",
   "execution_count": 74,
   "metadata": {},
   "outputs": [
    {
     "data": {
      "text/plain": [
       "{'America': 1, 'Korea': 82, 'China': 86, 'Japan': 81}"
      ]
     },
     "execution_count": 74,
     "metadata": {},
     "output_type": "execute_result"
    }
   ],
   "source": [
    "country_code"
   ]
  },
  {
   "cell_type": "code",
   "execution_count": 75,
   "metadata": {},
   "outputs": [
    {
     "data": {
      "text/plain": [
       "dict_keys(['America', 'Korea', 'China', 'Japan'])"
      ]
     },
     "execution_count": 75,
     "metadata": {},
     "output_type": "execute_result"
    }
   ],
   "source": [
    "country_code.keys()"
   ]
  },
  {
   "cell_type": "code",
   "execution_count": 76,
   "metadata": {},
   "outputs": [
    {
     "data": {
      "text/plain": [
       "False"
      ]
     },
     "execution_count": 76,
     "metadata": {},
     "output_type": "execute_result"
    }
   ],
   "source": [
    "85 in country_code.values()"
   ]
  },
  {
   "cell_type": "code",
   "execution_count": 77,
   "metadata": {},
   "outputs": [
    {
     "data": {
      "text/plain": [
       "True"
      ]
     },
     "execution_count": 77,
     "metadata": {},
     "output_type": "execute_result"
    }
   ],
   "source": [
    "\"Korea\" in country_code.keys()"
   ]
  },
  {
   "cell_type": "code",
   "execution_count": 78,
   "metadata": {},
   "outputs": [
    {
     "name": "stdout",
     "output_type": "stream",
     "text": [
      "False\n"
     ]
    }
   ],
   "source": [
    "# 6\n",
    "def delete_a_list_element(list_data, element_value):\n",
    "    if element_value in list_data:\n",
    "        list_data.remove(element_value)\n",
    "        return list_data\n",
    "    else:\n",
    "        return \"False\"\n",
    "\n",
    "list_data = ['a', 1, 'gachon', '2016.0']\n",
    "element = float(2016)\n",
    "result = delete_a_list_element(list_data, element)\n",
    "print(result)"
   ]
  },
  {
   "cell_type": "code",
   "execution_count": 79,
   "metadata": {},
   "outputs": [
    {
     "name": "stdout",
     "output_type": "stream",
     "text": [
      "{1, 2, 3, 4}\n"
     ]
    }
   ],
   "source": [
    "# 7\n",
    "def add_number(original_list):\n",
    "    original_list += [1]\n",
    "mylist=  [1, 2, 3, 4]\n",
    "add_number(mylist)\n",
    "print(set(mylist))"
   ]
  },
  {
   "cell_type": "code",
   "execution_count": 80,
   "metadata": {},
   "outputs": [
    {
     "name": "stdout",
     "output_type": "stream",
     "text": [
      "3\n",
      "2016\n",
      "2019\n"
     ]
    }
   ],
   "source": [
    "# 8\n",
    "a = [3, \"apple\", 2016, 4]\n",
    "b = a.pop(0)\n",
    "c = a.pop(1)\n",
    "print(b)\n",
    "print(c)\n",
    "print(b + c)"
   ]
  },
  {
   "cell_type": "code",
   "execution_count": 81,
   "metadata": {},
   "outputs": [
    {
     "name": "stdout",
     "output_type": "stream",
     "text": [
      "19\n"
     ]
    }
   ],
   "source": [
    "# 9\n",
    "def week_seven(sentence1):\n",
    "    cells = set(sentence1.replace(' ', '').lower())\n",
    "    return cells\n",
    "sentence_a = \"The quick brown fox jumps over the lazy dog\"\n",
    "sentence_b = \"I love you\"\n",
    "print(len(week_seven(sentence_a)-week_seven(sentence_b)))"
   ]
  },
  {
   "cell_type": "code",
   "execution_count": 82,
   "metadata": {},
   "outputs": [
    {
     "name": "stdout",
     "output_type": "stream",
     "text": [
      "[1, 2, 3, 4, 5, 6]\n"
     ]
    }
   ],
   "source": [
    "# 10\n",
    "tuple_1 = (1, 2, 3)\n",
    "tuple_2 = (4, 5, 6)\n",
    "\n",
    "def quiz_1(data_1, data_2):\n",
    "    result = []\n",
    "    \n",
    "    for i in (tuple_1 + tuple_2):\n",
    "        result.append(i)\n",
    "    return (result)\n",
    "\n",
    "print(quiz_1(tuple_1, tuple_2))"
   ]
  },
  {
   "cell_type": "code",
   "execution_count": 83,
   "metadata": {},
   "outputs": [
    {
     "name": "stdout",
     "output_type": "stream",
     "text": [
      "4\n"
     ]
    }
   ],
   "source": [
    "# 11\n",
    "dict_1 = {2:1, 4:2, 6:3, 8:4, 10:6}\n",
    "\n",
    "dict_keys = list(dict_1.keys())\n",
    "dict_values = list(dict_1.values())\n",
    "\n",
    "dict_2 = dict()\n",
    "\n",
    "for i in range(len(dict_keys)):\n",
    "    dict_2[dict_values[i]] = dict_keys[i]\n",
    "    \n",
    "print(dict_2[2])"
   ]
  },
  {
   "cell_type": "code",
   "execution_count": 84,
   "metadata": {},
   "outputs": [
    {
     "name": "stdout",
     "output_type": "stream",
     "text": [
      "{4: 'ant', 0: 'snake', 2: 'monkey', 8: 'spider', 'ant': 6}\n"
     ]
    }
   ],
   "source": [
    "# 12\n",
    "animal = ['cat', 'snake', 'monkey', 'ant', 'spider']\n",
    "legs = [4, 0, 2, 4, 8]\n",
    "animal_legs_dict = {}\n",
    "for i in range(len(animal)):\n",
    "    animal_legs_dict[legs[i]] = animal[i]\n",
    "animal_legs_dict['ant'] = 6\n",
    "print(animal_legs_dict)"
   ]
  },
  {
   "cell_type": "code",
   "execution_count": 85,
   "metadata": {},
   "outputs": [
    {
     "name": "stdout",
     "output_type": "stream",
     "text": [
      "(1, 2, 3, 1, 2, 3)\n",
      "(1, 2, 3, 1, 2, 3)\n",
      "(1, 2, 3) (1, 2, 3)\n"
     ]
    }
   ],
   "source": [
    "# 13\n",
    "t = (1, 2, 3)\n",
    "print(t + t)\n",
    "print(t * 2)\n",
    "print(t, t)"
   ]
  },
  {
   "cell_type": "code",
   "execution_count": 86,
   "metadata": {},
   "outputs": [
    {
     "name": "stdout",
     "output_type": "stream",
     "text": [
      "10\n"
     ]
    }
   ],
   "source": [
    "# 14\n",
    "Mydict = {'1': 1, '2': 2}\n",
    "Copy = Mydict\n",
    "Mydict['1'] = 5\n",
    "result = Mydict['1'] + Copy['1']\n",
    "print(result)"
   ]
  },
  {
   "cell_type": "code",
   "execution_count": 87,
   "metadata": {},
   "outputs": [
    {
     "name": "stdout",
     "output_type": "stream",
     "text": [
      "?Yoeu MLo ve\n"
     ]
    }
   ],
   "source": [
    "# 15\n",
    "sentence = list(\"You Love Me?\")\n",
    "result = ''\n",
    "for i in range(len(sentence)):\n",
    "    if i % 3 == 0:\n",
    "        result += sentence.pop()\n",
    "    else:\n",
    "        result += sentence.pop(0)\n",
    "print(result)"
   ]
  },
  {
   "cell_type": "code",
   "execution_count": 88,
   "metadata": {},
   "outputs": [
    {
     "name": "stdout",
     "output_type": "stream",
     "text": [
      "14\n"
     ]
    }
   ],
   "source": [
    "# 16\n",
    "number = [5, 6, 7, 8, 9, 1, 2, 3, 4]\n",
    "result = []\n",
    "result.append(number.pop(0))\n",
    "result.append(number.pop())\n",
    "result.append(number.pop(1))\n",
    "result.append(number.pop())\n",
    "result.append(number.pop(0))\n",
    "print(number[0]+result[-1])"
   ]
  },
  {
   "cell_type": "code",
   "execution_count": 89,
   "metadata": {},
   "outputs": [
    {
     "name": "stdout",
     "output_type": "stream",
     "text": [
      "[0, 1, 2, 3, 4, 5, 6, 7, 8, 9]\n"
     ]
    }
   ],
   "source": [
    "# 17 \n",
    "a = list(range(10))\n",
    "a.append(a[3])\n",
    "a.pop(a[3])\n",
    "a.insert(3, a[-1])\n",
    "a.pop()\n",
    "print(a)"
   ]
  },
  {
   "cell_type": "code",
   "execution_count": 90,
   "metadata": {},
   "outputs": [
    {
     "name": "stdout",
     "output_type": "stream",
     "text": [
      "6\n"
     ]
    }
   ],
   "source": [
    "# 18\n",
    "box = [1, 'red', 3, (), [], None]\n",
    "print(len(box))"
   ]
  },
  {
   "cell_type": "code",
   "execution_count": 91,
   "metadata": {},
   "outputs": [
    {
     "name": "stdout",
     "output_type": "stream",
     "text": [
      "(1,)\n",
      "[1]\n",
      "error\n",
      "error\n",
      "a\n",
      "a\n"
     ]
    }
   ],
   "source": [
    "# 19\n",
    "data_1 = {'one':(1, 2, 3, 4, 5, 6), 'two': [1, 2, 3, 4, 5, 6], 'three':{'four':4, 'five':5}}\n",
    "for k in ['one', 'two', 'three']:\n",
    "    try:\n",
    "        print(data_1[k][:1])\n",
    "    except TypeError:\n",
    "        print(\"error\")\n",
    "        \n",
    "for k in ['one', 'two', 'three']:\n",
    "    try:\n",
    "        data_1[k][-1] = \"a\"\n",
    "        print(data_1[k][-1])\n",
    "    except TypeError:\n",
    "        print(\"error\")"
   ]
  },
  {
   "cell_type": "code",
   "execution_count": 92,
   "metadata": {},
   "outputs": [
    {
     "name": "stdout",
     "output_type": "stream",
     "text": [
      "{'A': 'Sam', 'B': 'Sarah', 'C': 'Jane', 'D': 'John'}\n"
     ]
    }
   ],
   "source": [
    "# 20\n",
    "class_category = [\"A\" ,\"B\", \"C\", \"D\"]\n",
    "student_category = [\"Sam\", \"Sarah\", \"Jane\", \"John\"]\n",
    "\n",
    "class_student_cate = {}\n",
    "for i in range(len(class_category)):\n",
    "    class_student_cate[class_category[i]] = student_category[i]\n",
    "    \n",
    "print(class_student_cate)"
   ]
  }
 ],
 "metadata": {
  "kernelspec": {
   "display_name": "Python 3",
   "language": "python",
   "name": "python3"
  },
  "language_info": {
   "codemirror_mode": {
    "name": "ipython",
    "version": 3
   },
   "file_extension": ".py",
   "mimetype": "text/x-python",
   "name": "python",
   "nbconvert_exporter": "python",
   "pygments_lexer": "ipython3",
   "version": "3.8.5"
  }
 },
 "nbformat": 4,
 "nbformat_minor": 4
}
