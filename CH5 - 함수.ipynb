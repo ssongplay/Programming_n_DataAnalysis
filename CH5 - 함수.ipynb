{
 "cells": [
  {
   "cell_type": "markdown",
   "metadata": {},
   "source": [
    "# CHAPTER05 함수"
   ]
  },
  {
   "cell_type": "markdown",
   "metadata": {},
   "source": [
    "## 5.1 함수 기초"
   ]
  },
  {
   "cell_type": "code",
   "execution_count": 1,
   "metadata": {},
   "outputs": [
    {
     "name": "stdout",
     "output_type": "stream",
     "text": [
      "사각형 x의 길이: 10\n",
      "사각형 y의 길이: 20\n",
      "사각형의 넓이: 200\n"
     ]
    }
   ],
   "source": [
    "# 5-1 rectangle_area.py\n",
    "def calculate_rectangle_area(x,y):\n",
    "    return x * y\n",
    "\n",
    "rectangle_x = 10\n",
    "rectangle_y = 20\n",
    "print(\"사각형 x의 길이:\", rectangle_x)\n",
    "print(\"사각형 y의 길이:\", rectangle_y)\n",
    "\n",
    "# 넓이를 구하는 함수 호출\n",
    "print(\"사각형의 넓이:\", calculate_rectangle_area(rectangle_x, rectangle_y))"
   ]
  },
  {
   "cell_type": "code",
   "execution_count": 2,
   "metadata": {},
   "outputs": [
    {
     "name": "stdout",
     "output_type": "stream",
     "text": [
      "151\n"
     ]
    }
   ],
   "source": [
    "# 5-2 function.py\n",
    "def f(x):\n",
    "    return 2 * x + 7\n",
    "def g(x):\n",
    "    return x ** 2\n",
    "\n",
    "x = 2\n",
    "print(f(x) + g(x) + f(g(x)) + g(f(x)))"
   ]
  },
  {
   "cell_type": "code",
   "execution_count": 3,
   "metadata": {},
   "outputs": [
    {
     "name": "stdout",
     "output_type": "stream",
     "text": [
      "11\n"
     ]
    }
   ],
   "source": [
    "# 5-3 parameter.py\n",
    "def f(x):\n",
    "    return 2 * x + 7\n",
    "\n",
    "print(f(2))"
   ]
  },
  {
   "cell_type": "code",
   "execution_count": 4,
   "metadata": {},
   "outputs": [
    {
     "name": "stdout",
     "output_type": "stream",
     "text": [
      "35\n",
      "35\n",
      "35\n",
      "35\n"
     ]
    }
   ],
   "source": [
    "# 5-4 function_type.py\n",
    "def a_rectangle_area():        #매개변수 x, 반환값 x -> 함수 자체는 None 값 가짐\n",
    "    print(5 * 7)\n",
    "def b_rectangle_area(x, y):    #매개변수 o, 반환값 x -> 함수 자체는 None 값 가짐\n",
    "    print(x * y)               #                   -> 반환이 없으면 해당 함수는 none 으로 치환됨\n",
    "def c_rectangle_area():        #매개변수 x, 반환값 o \n",
    "    return(5 * 7) \n",
    "def d_rectangle_area(x, y):    #매개변수 o, 반환값 o\n",
    "    return(x * y)\n",
    "\n",
    "a_rectangle_area()\n",
    "b_rectangle_area(5, 7)\n",
    "print(c_rectangle_area())\n",
    "print(d_rectangle_area(5, 7))"
   ]
  },
  {
   "cell_type": "markdown",
   "metadata": {},
   "source": [
    "### [Lab] 계산기 함수\n",
    "- 연산자, 두 수를 받아서 덧셈, 뺄셈, 곱셈, 나눗셈을 수행하는 함수"
   ]
  },
  {
   "cell_type": "code",
   "execution_count": 5,
   "metadata": {},
   "outputs": [
    {
     "name": "stdout",
     "output_type": "stream",
     "text": [
      "13\n",
      "3\n",
      "40\n",
      "1.6\n"
     ]
    }
   ],
   "source": [
    "def calc(op, n1, n2):\n",
    "    result = 0\n",
    "    if op == '+':\n",
    "        result = n1 + n2\n",
    "    elif op == '-':\n",
    "        result = n1 - n2\n",
    "    elif op == '*':\n",
    "        result = n1 * n2\n",
    "    elif op == '/':\n",
    "        result = n1 / n2\n",
    "    return result\n",
    "\n",
    "print(calc('+', 8, 5))\n",
    "print(calc('-', 8, 5))\n",
    "print(calc('*', 8, 5))\n",
    "print(calc('/', 8, 5))"
   ]
  },
  {
   "cell_type": "markdown",
   "metadata": {},
   "source": [
    "## 5.2 함수 심화"
   ]
  },
  {
   "cell_type": "code",
   "execution_count": 6,
   "metadata": {},
   "outputs": [
    {
     "name": "stdout",
     "output_type": "stream",
     "text": [
      "9\n",
      "3\n"
     ]
    }
   ],
   "source": [
    "# 5-5 call1.py\n",
    "def f(x):\n",
    "    y = x\n",
    "    x = 5\n",
    "    return y * y\n",
    "\n",
    "x = 3\n",
    "print(f(x))\n",
    "print(x)"
   ]
  },
  {
   "cell_type": "code",
   "execution_count": 7,
   "metadata": {},
   "outputs": [
    {
     "name": "stdout",
     "output_type": "stream",
     "text": [
      "[0, 1]\n"
     ]
    }
   ],
   "source": [
    "# 5-6 call2.py\n",
    "def spam(eggs):\n",
    "    eggs.append(1)\n",
    "    eggs = [2, 3]\n",
    "\n",
    "ham = [0]\n",
    "spam(ham)\n",
    "print(ham)"
   ]
  },
  {
   "cell_type": "code",
   "execution_count": 8,
   "metadata": {},
   "outputs": [
    {
     "name": "stdout",
     "output_type": "stream",
     "text": [
      "10\n",
      "In Function: 20\n",
      "In Main: 10\n"
     ]
    },
    {
     "ename": "NameError",
     "evalue": "name 't' is not defined",
     "output_type": "error",
     "traceback": [
      "\u001b[1;31m---------------------------------------------------------------------------\u001b[0m",
      "\u001b[1;31mNameError\u001b[0m                                 Traceback (most recent call last)",
      "\u001b[1;32m<ipython-input-8-ea4ee1f85283>\u001b[0m in \u001b[0;36m<module>\u001b[1;34m\u001b[0m\n\u001b[0;32m      8\u001b[0m \u001b[0mtest\u001b[0m\u001b[1;33m(\u001b[0m\u001b[0mx\u001b[0m\u001b[1;33m)\u001b[0m\u001b[1;33m\u001b[0m\u001b[1;33m\u001b[0m\u001b[0m\n\u001b[0;32m      9\u001b[0m \u001b[0mprint\u001b[0m\u001b[1;33m(\u001b[0m\u001b[1;34m\"In Main:\"\u001b[0m\u001b[1;33m,\u001b[0m \u001b[0mx\u001b[0m\u001b[1;33m)\u001b[0m\u001b[1;33m\u001b[0m\u001b[1;33m\u001b[0m\u001b[0m\n\u001b[1;32m---> 10\u001b[1;33m \u001b[0mprint\u001b[0m\u001b[1;33m(\u001b[0m\u001b[1;34m\"In Main:\"\u001b[0m\u001b[1;33m,\u001b[0m \u001b[0mt\u001b[0m\u001b[1;33m)\u001b[0m\u001b[1;33m\u001b[0m\u001b[1;33m\u001b[0m\u001b[0m\n\u001b[0m",
      "\u001b[1;31mNameError\u001b[0m: name 't' is not defined"
     ]
    }
   ],
   "source": [
    "# 5-7 scoping_rule.py\n",
    "def test(t):\n",
    "    print(x)\n",
    "    t = 20\n",
    "    print(\"In Function:\", t)\n",
    "    \n",
    "x = 10\n",
    "test(x)\n",
    "print(\"In Main:\", x)\n",
    "print(\"In Main:\", t)"
   ]
  },
  {
   "cell_type": "code",
   "execution_count": 9,
   "metadata": {},
   "outputs": [
    {
     "name": "stdout",
     "output_type": "stream",
     "text": [
      "I love London!\n",
      "I love Paris!\n"
     ]
    }
   ],
   "source": [
    "# 5-8 local_variable.py\n",
    "def f():\n",
    "    s = \"I love London!\"\n",
    "    print(s)\n",
    "    \n",
    "s = \"I love Paris!\"\n",
    "f()\n",
    "print(s)"
   ]
  },
  {
   "cell_type": "code",
   "execution_count": 10,
   "metadata": {},
   "outputs": [
    {
     "name": "stdout",
     "output_type": "stream",
     "text": [
      "I love London!\n",
      "I love London!\n"
     ]
    }
   ],
   "source": [
    "# 5-9 global_variable.py\n",
    "def f():\n",
    "    global s\n",
    "    s = \"I love London!\"\n",
    "    print(s)\n",
    "\n",
    "s = \"I love Paris!\"\n",
    "f()\n",
    "print(s)"
   ]
  },
  {
   "cell_type": "code",
   "execution_count": 11,
   "metadata": {},
   "outputs": [
    {
     "name": "stdout",
     "output_type": "stream",
     "text": [
      "In Program 1\n",
      "a: 5  b: 7  a+b: 12\n",
      "In Function\n",
      "a: 5  b: 7  a+b: 12  total: 12\n",
      "After Calculation\n",
      "Total: 0  Sum: 12\n"
     ]
    }
   ],
   "source": [
    "# 5-10 scoping_rule_final.py\n",
    "def calculate(x,y):\n",
    "    total = x + y    # 새로운 값이 할당되어 함수 안 total은 지역 변수가 됨\n",
    "    print(\"In Function\")\n",
    "    print(\"a:\", str(a), \" b:\", str(b), \" a+b:\", str(a+b), \" total:\", str(total))\n",
    "    return total\n",
    "\n",
    "a = 5          # a와 b는 전역변수\n",
    "b = 7\n",
    "total = 0      # 전역변수 total\n",
    "print(\"In Program 1\")\n",
    "print(\"a:\", str(a), \" b:\", str(b), \" a+b:\", str(a+b))\n",
    "\n",
    "sum = calculate(a, b)\n",
    "print(\"After Calculation\")\n",
    "print(\"Total:\", str(total), \" Sum:\", str(sum))"
   ]
  },
  {
   "cell_type": "code",
   "execution_count": 12,
   "metadata": {},
   "outputs": [
    {
     "name": "stdout",
     "output_type": "stream",
     "text": [
      "Input NUmber for Factorial Calculation: 5\n",
      "120\n"
     ]
    }
   ],
   "source": [
    "# 5-11 factorial.py\n",
    "def factorial(n):\n",
    "    if n == 1:\n",
    "        return 1\n",
    "    else:\n",
    "        return n * factorial(n - 1)\n",
    "\n",
    "print(factorial(int(input(\"Input NUmber for Factorial Calculation: \"))))"
   ]
  },
  {
   "cell_type": "markdown",
   "metadata": {},
   "source": [
    "## 5.3 함수의 인수"
   ]
  },
  {
   "cell_type": "code",
   "execution_count": 13,
   "metadata": {},
   "outputs": [
    {
     "name": "stdout",
     "output_type": "stream",
     "text": [
      "Hello TEAMLAB, My name is Sungchul\n",
      "Hello TEAMLAB, My name is Sungchul\n"
     ]
    }
   ],
   "source": [
    "# 5-12 keyword.py\n",
    "def print_something(my_name, your_name):\n",
    "    print(\"Hello {0}, My name is {1}\".format(your_name, my_name))\n",
    "    \n",
    "print_something(\"Sungchul\", \"TEAMLAB\")\n",
    "print_something(your_name = \"TEAMLAB\", my_name = \"Sungchul\")"
   ]
  },
  {
   "cell_type": "code",
   "execution_count": 14,
   "metadata": {},
   "outputs": [
    {
     "name": "stdout",
     "output_type": "stream",
     "text": [
      "Hello Sun, My name is Sungchul\n",
      "Hello TEAMLAB, My name is Sungchul\n"
     ]
    }
   ],
   "source": [
    "# 5-13 default.py\n",
    "def print_something_2(my_name, your_name = \"TEAMLAB\"):\n",
    "    print(\"Hello {0}, My name is {1}\".format(your_name, my_name))\n",
    "    \n",
    "print_something_2(\"Sungchul\", \"Sun\")\n",
    "print_something_2(\"Sungchul\")"
   ]
  },
  {
   "cell_type": "code",
   "execution_count": 15,
   "metadata": {},
   "outputs": [
    {
     "name": "stdout",
     "output_type": "stream",
     "text": [
      "15\n"
     ]
    }
   ],
   "source": [
    "# 5-14 asterisk1.py\n",
    "del sum\n",
    "def asterisk_test(a, b, *args):\n",
    "    return a + b + sum(args)\n",
    "\n",
    "print(asterisk_test(1, 2, 3, 4, 5))"
   ]
  },
  {
   "cell_type": "code",
   "execution_count": 16,
   "metadata": {},
   "outputs": [
    {
     "name": "stdout",
     "output_type": "stream",
     "text": [
      "(3, 4, 5) <class 'tuple'>\n"
     ]
    }
   ],
   "source": [
    "# 5-15 asterisk2.py\n",
    "def asterisk_test(a, b, *args):\n",
    "    print(args, type(args))\n",
    "\n",
    "asterisk_test(1, 2, 3, 4, 5) # tuple 형태"
   ]
  },
  {
   "cell_type": "code",
   "execution_count": 17,
   "metadata": {},
   "outputs": [
    {
     "name": "stdout",
     "output_type": "stream",
     "text": [
      "(3, 4, [5])\n",
      "(3, 4, [5, 10, 20])\n"
     ]
    }
   ],
   "source": [
    "# 5-16 asterisk3.py\n",
    "def asterisk_test_2(*args):\n",
    "    x, y, *z = args     # z는 리스트로 반환\n",
    "    return x, y, z\n",
    "\n",
    "print(asterisk_test_2(3, 4, 5))\n",
    "print(asterisk_test_2(3, 4, 5, 10, 20))"
   ]
  },
  {
   "cell_type": "code",
   "execution_count": 18,
   "metadata": {},
   "outputs": [
    {
     "name": "stdout",
     "output_type": "stream",
     "text": [
      "{'first': 3, 'second': 4, 'third': 5} <class 'dict'>\n",
      "First value is 3\n",
      "Second value is 4\n",
      "Third value is 5\n"
     ]
    }
   ],
   "source": [
    "# 5-18 kwargs.py 키워드args\n",
    "def kwargs_test(**kwargs):\n",
    "    print(kwargs, type(kwargs))   \n",
    "    print(\"First value is {first}\".format(**kwargs))\n",
    "    print(\"Second value is {second}\".format(**kwargs))\n",
    "    print(\"Third value is {third}\".format(**kwargs))\n",
    "    \n",
    "kwargs_test(first = 3, second = 4, third = 5)"
   ]
  },
  {
   "cell_type": "markdown",
   "metadata": {},
   "source": [
    "### 반환값이 여러개 있는 함수\n",
    "- 여러 반환값을 사용할 경우 튜플 형태로 반환"
   ]
  },
  {
   "cell_type": "code",
   "execution_count": 19,
   "metadata": {},
   "outputs": [
    {
     "name": "stdout",
     "output_type": "stream",
     "text": [
      "(13, 3)\n"
     ]
    }
   ],
   "source": [
    "def plus_and_minus(n1, n2):\n",
    "    return n1 + n2, n1 - n2\n",
    "\n",
    "result = plus_and_minus(8, 5)\n",
    "print(result)"
   ]
  },
  {
   "cell_type": "code",
   "execution_count": 20,
   "metadata": {},
   "outputs": [
    {
     "name": "stdout",
     "output_type": "stream",
     "text": [
      "plus: 13, minus: 3\n"
     ]
    }
   ],
   "source": [
    "plus, minus = plus_and_minus(8, 5)\n",
    "print(\"plus: {0}, minus: {1}\".format(plus, minus))"
   ]
  },
  {
   "cell_type": "markdown",
   "metadata": {},
   "source": [
    "## [Lab] 가변 인수의 평균값 계산\n",
    "- 가변 매개변수로 들어오는 모든 수의 평균값 계산"
   ]
  },
  {
   "cell_type": "code",
   "execution_count": 21,
   "metadata": {},
   "outputs": [
    {
     "name": "stdout",
     "output_type": "stream",
     "text": [
      "3.0\n"
     ]
    }
   ],
   "source": [
    "def avg(*args):\n",
    "    sum = 0\n",
    "    for i in args:\n",
    "        sum += i\n",
    "    return (sum / len(args))\n",
    "print(avg(1, 2, 3, 4, 5))"
   ]
  },
  {
   "cell_type": "markdown",
   "metadata": {},
   "source": [
    "## 연습문제"
   ]
  },
  {
   "cell_type": "code",
   "execution_count": 22,
   "metadata": {},
   "outputs": [
    {
     "name": "stdout",
     "output_type": "stream",
     "text": [
      "Before: 10\n",
      "In Function: 20\n",
      "After: 10\n"
     ]
    }
   ],
   "source": [
    "# 1\n",
    "def test(t):\n",
    "    t = 20\n",
    "    print(\"In Function:\", t)\n",
    "\n",
    "x = 10\n",
    "print(\"Before:\", x)\n",
    "test(x)\n",
    "print(\"After:\", x)"
   ]
  },
  {
   "cell_type": "code",
   "execution_count": 23,
   "metadata": {},
   "outputs": [
    {
     "name": "stdout",
     "output_type": "stream",
     "text": [
      "None\n",
      "[1, 2, 3, 4, 5]\n"
     ]
    }
   ],
   "source": [
    "# 2 \n",
    "def sorting_function(list_value):\n",
    "    return list_value.sort()\n",
    "\n",
    "print(sorting_function([5,4,3,2,1]))\n",
    "\n",
    "# 값에 의한 호출이 아닌 참조에 의한 호출이 사용되므로 None 값을 갖는다.\n",
    "# 함수 안의 인수 값을 정렬해서 반환하는 것 이므로 [5, 4, 3, 2, 1]의 값을 변수에 저장해서 변수를 반환해야 된다.\n",
    "\n",
    "def sorting_function2(list_value):\n",
    "    answer = sorted(list_value)\n",
    "    return answer\n",
    "\n",
    "print(sorting_function2([5,4,3,2,1]))"
   ]
  },
  {
   "cell_type": "code",
   "execution_count": 24,
   "metadata": {},
   "outputs": [
    {
     "name": "stdout",
     "output_type": "stream",
     "text": [
      "None\n",
      "yes\n"
     ]
    }
   ],
   "source": [
    "# 4 \n",
    "def is_yes(your_answer):\n",
    "    if your_answer.upper()==\"YES\" or your_answer.upper()==\"Y\":\n",
    "        result=your_answer.lower()\n",
    "print(is_yes(\"Yes\"))\n",
    "\n",
    "\n",
    "def is_yes2(your_answer):\n",
    "    if your_answer.upper()==\"YES\" or your_answer.upper()==\"Y\":\n",
    "        result=your_answer.lower()\n",
    "    return result\n",
    "print(is_yes2(\"Yes\"))"
   ]
  },
  {
   "cell_type": "code",
   "execution_count": 25,
   "metadata": {},
   "outputs": [
    {
     "name": "stdout",
     "output_type": "stream",
     "text": [
      "False\n",
      "23\n"
     ]
    }
   ],
   "source": [
    "# 5\n",
    "def add_and_mul(a,b,c):\n",
    "    return b + a * c + b\n",
    "\n",
    "print(add_and_mul(3,4,5)==63)\n",
    "print(add_and_mul(3,4,5))"
   ]
  },
  {
   "cell_type": "code",
   "execution_count": 26,
   "metadata": {},
   "outputs": [
    {
     "ename": "TypeError",
     "evalue": "args_test_3() missing 1 required keyword-only argument: 'three'",
     "output_type": "error",
     "traceback": [
      "\u001b[1;31m---------------------------------------------------------------------------\u001b[0m",
      "\u001b[1;31mTypeError\u001b[0m                                 Traceback (most recent call last)",
      "\u001b[1;32m<ipython-input-26-bd4137e797f3>\u001b[0m in \u001b[0;36m<module>\u001b[1;34m\u001b[0m\n\u001b[0;32m      4\u001b[0m     \u001b[0mprint\u001b[0m\u001b[1;33m(\u001b[0m\u001b[0margs\u001b[0m\u001b[1;33m)\u001b[0m\u001b[1;33m\u001b[0m\u001b[1;33m\u001b[0m\u001b[0m\n\u001b[0;32m      5\u001b[0m \u001b[1;33m\u001b[0m\u001b[0m\n\u001b[1;32m----> 6\u001b[1;33m \u001b[0margs_test_3\u001b[0m\u001b[1;33m(\u001b[0m\u001b[1;36m3\u001b[0m\u001b[1;33m,\u001b[0m\u001b[1;36m4\u001b[0m\u001b[1;33m,\u001b[0m\u001b[1;36m5\u001b[0m\u001b[1;33m,\u001b[0m\u001b[1;36m6\u001b[0m\u001b[1;33m,\u001b[0m\u001b[1;36m7\u001b[0m\u001b[1;33m)\u001b[0m\u001b[1;33m\u001b[0m\u001b[1;33m\u001b[0m\u001b[0m\n\u001b[0m",
      "\u001b[1;31mTypeError\u001b[0m: args_test_3() missing 1 required keyword-only argument: 'three'"
     ]
    }
   ],
   "source": [
    "# 6\n",
    "def args_test_3(one, two, *args, three):\n",
    "    print(one + two + sum(args))\n",
    "    print(args)\n",
    "    \n",
    "args_test_3(3,4,5,6,7)"
   ]
  },
  {
   "cell_type": "code",
   "execution_count": 27,
   "metadata": {},
   "outputs": [
    {
     "name": "stdout",
     "output_type": "stream",
     "text": [
      "20\n",
      "(6, 7)\n"
     ]
    }
   ],
   "source": [
    "def args_test_4(one, two, three, *args):\n",
    "    print(one + two + sum(args))\n",
    "    print(args)\n",
    "    \n",
    "args_test_4(3,4,5,6,7)"
   ]
  },
  {
   "cell_type": "code",
   "execution_count": 28,
   "metadata": {},
   "outputs": [
    {
     "name": "stdout",
     "output_type": "stream",
     "text": [
      "['green', 'blue']\n"
     ]
    }
   ],
   "source": [
    "# 7\n",
    "def rain(colors):\n",
    "    colors.append(\"purple\")\n",
    "    colors = [\"green\", \"blue\"]\n",
    "    return colors\n",
    "\n",
    "rainbow = [\"red\", \"orange\"]\n",
    "print(rain(rainbow))"
   ]
  },
  {
   "cell_type": "code",
   "execution_count": 29,
   "metadata": {},
   "outputs": [
    {
     "name": "stdout",
     "output_type": "stream",
     "text": [
      "8\n"
     ]
    }
   ],
   "source": [
    "# 8\n",
    "def function(value):\n",
    "    print(value ** 3)\n",
    "    \n",
    "# print(function(2))   # 값에 의한 호출 & 반환값 없음  -> print하면 None 값 나옴 \n",
    "function(2)"
   ]
  },
  {
   "cell_type": "code",
   "execution_count": 30,
   "metadata": {},
   "outputs": [
    {
     "name": "stdout",
     "output_type": "stream",
     "text": [
      "appl\n"
     ]
    }
   ],
   "source": [
    "# 9\n",
    "def get_apple(fruit):\n",
    "    fruit = list(fruit)\n",
    "    fruit.append(\"e\")\n",
    "    fruit = [\"apple\"]\n",
    "    return fruit\n",
    "\n",
    "fruit = \"appl\"\n",
    "get_apple(fruit)    # --> ['apple']\n",
    "print(fruit)        # 값에 의한 호출을 사용했으므로 함수 외부에 있는 fruit 값은 영향받지 않음"
   ]
  },
  {
   "cell_type": "code",
   "execution_count": 31,
   "metadata": {},
   "outputs": [
    {
     "name": "stdout",
     "output_type": "stream",
     "text": [
      "I Love You543210\n"
     ]
    }
   ],
   "source": [
    "# 10\n",
    "def return_sentence(sentence, n):\n",
    "    sentence += str(n)\n",
    "    n -= 1\n",
    "    if n<0:\n",
    "        return sentence\n",
    "    else:\n",
    "        return(return_sentence(sentence,n))\n",
    "    \n",
    "sentence = \"I Love You\"\n",
    "print(return_sentence(sentence, 5))"
   ]
  },
  {
   "cell_type": "code",
   "execution_count": 32,
   "metadata": {},
   "outputs": [
    {
     "name": "stdout",
     "output_type": "stream",
     "text": [
      "['x']\n",
      "['y', ['x']]\n"
     ]
    }
   ],
   "source": [
    "# 11\n",
    "def test(x,y):\n",
    "    tmp = x\n",
    "    x = y\n",
    "    y = tmp\n",
    "    return y.append(x)\n",
    "\n",
    "x = [\"y\"]\n",
    "y = [\"x\"]\n",
    "test(x,y)\n",
    "print(y)    # y값은 함수 외부에 있고 주소에 의한 호출이 아니므로 y 변수 리스트에는 변화 없음\n",
    "print(x)"
   ]
  },
  {
   "cell_type": "code",
   "execution_count": 33,
   "metadata": {},
   "outputs": [
    {
     "name": "stdout",
     "output_type": "stream",
     "text": [
      "Odd\n",
      "Even\n"
     ]
    }
   ],
   "source": [
    "# 12 \n",
    "def countdown(n):\n",
    "    if n % 2 == 0:\n",
    "        print(\"Even\")\n",
    "    else:\n",
    "        print(\"Odd\")\n",
    "        countdown(n-1)\n",
    "countdown(3)"
   ]
  },
  {
   "cell_type": "code",
   "execution_count": 34,
   "metadata": {},
   "outputs": [
    {
     "name": "stdout",
     "output_type": "stream",
     "text": [
      "120\n"
     ]
    }
   ],
   "source": [
    "# 13\n",
    "def factorial_calculator(n):\n",
    "    if n in (0,1):\n",
    "        return 1\n",
    "    else:\n",
    "        return n * (factorial_calculator(n-1))\n",
    "print(factorial_calculator(5))"
   ]
  },
  {
   "cell_type": "code",
   "execution_count": 35,
   "metadata": {},
   "outputs": [
    {
     "data": {
      "text/plain": [
       "15"
      ]
     },
     "execution_count": 35,
     "metadata": {},
     "output_type": "execute_result"
    }
   ],
   "source": [
    "# 14\n",
    "def calculate_rectangle_area(rectangle_x, rectangle_y):\n",
    "    rectangle_x = 3\n",
    "    rectangle_y = 5\n",
    "    result = rectangle_x * rectangle_y\n",
    "    return result\n",
    "\n",
    "rectangle_x = 2\n",
    "rectangle_y = 4\n",
    "\n",
    "calculate_rectangle_area(rectangle_x, rectangle_y)"
   ]
  },
  {
   "cell_type": "code",
   "execution_count": 36,
   "metadata": {},
   "outputs": [
    {
     "name": "stdout",
     "output_type": "stream",
     "text": [
      "Value in function: 10\n",
      "Value: 20\n"
     ]
    }
   ],
   "source": [
    "# 15\n",
    "def exam_func():\n",
    "    x = 10\n",
    "    print(\"Value in function:\", x)\n",
    "    \n",
    "x = 20\n",
    "exam_func()          # 10\n",
    "print(\"Value:\", x)   # 20"
   ]
  },
  {
   "cell_type": "code",
   "execution_count": 37,
   "metadata": {},
   "outputs": [
    {
     "name": "stdout",
     "output_type": "stream",
     "text": [
      "['Korea', 'Japan', 'China', 'Remove']\n",
      "None\n",
      "['Korea', 'Japan', 'China']\n"
     ]
    }
   ],
   "source": [
    "# 16\n",
    "country = [\"Korea\", \"Japan\", \"China\"]\n",
    "country.append(\"Remove\")\n",
    "print(country)\n",
    "\n",
    "print(country.remove(\"Remove\"))\n",
    "# remove 함수는 반환값이 없다. 따라서 print하면 None 값\n",
    "\n",
    "print(country)"
   ]
  }
 ],
 "metadata": {
  "kernelspec": {
   "display_name": "Python 3",
   "language": "python",
   "name": "python3"
  },
  "language_info": {
   "codemirror_mode": {
    "name": "ipython",
    "version": 3
   },
   "file_extension": ".py",
   "mimetype": "text/x-python",
   "name": "python",
   "nbconvert_exporter": "python",
   "pygments_lexer": "ipython3",
   "version": "3.8.5"
  }
 },
 "nbformat": 4,
 "nbformat_minor": 4
}
