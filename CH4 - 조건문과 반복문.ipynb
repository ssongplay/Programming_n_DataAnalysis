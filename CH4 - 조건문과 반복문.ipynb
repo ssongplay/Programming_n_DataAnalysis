{
 "cells": [
  {
   "cell_type": "markdown",
   "metadata": {},
   "source": [
    "# CHAPTER04 조건문과 반복문"
   ]
  },
  {
   "cell_type": "markdown",
   "metadata": {},
   "source": [
    "## 4.1 조건문"
   ]
  },
  {
   "cell_type": "code",
   "execution_count": 1,
   "metadata": {},
   "outputs": [
    {
     "name": "stdout",
     "output_type": "stream",
     "text": [
      "Tell me your age?\n",
      "22\n",
      "Welcome to the Club.\n"
     ]
    }
   ],
   "source": [
    "# 코드 4-1 if-else.py\n",
    "print(\"Tell me your age?\")\n",
    "myage = int(input())\n",
    "if myage < 30:\n",
    "    print(\"Welcome to the Club.\")\n",
    "else:\n",
    "    print(\"Oh@ No. You are not accepted.\")"
   ]
  },
  {
   "cell_type": "code",
   "execution_count": 2,
   "metadata": {},
   "outputs": [
    {
     "name": "stdout",
     "output_type": "stream",
     "text": [
      "Enter your score: 98\n",
      "D\n"
     ]
    }
   ],
   "source": [
    "# 코드 4-2 grade.py\n",
    "# 코드가 한줄씩 실행되기 때문에 잘못된 값 출력함 \n",
    "score = int(input(\"Enter your score: \"))\n",
    "\n",
    "if score >= 90:\n",
    "    grade = 'A'\n",
    "if score >= 80:\n",
    "    grade = 'B'\n",
    "if score >= 70:\n",
    "    grade = 'C'\n",
    "if score >= 60:\n",
    "    grade = 'D'\n",
    "if score < 60:\n",
    "    grade = 'F'\n",
    "\n",
    "print(grade)"
   ]
  },
  {
   "cell_type": "code",
   "execution_count": 3,
   "metadata": {},
   "outputs": [
    {
     "name": "stdout",
     "output_type": "stream",
     "text": [
      "Enter your score: 98\n",
      "A\n"
     ]
    }
   ],
   "source": [
    "# 코드 4-3 if-elif-else.py\n",
    "score = int(input(\"Enter your score: \"))\n",
    "\n",
    "if score >= 90: grade='A'\n",
    "elif score>= 80: grade='B'\n",
    "elif score>= 70: grade='C'\n",
    "elif score>= 60: grade='D'\n",
    "else: grade='B'\n",
    "    \n",
    "print(grade)"
   ]
  },
  {
   "cell_type": "markdown",
   "metadata": {},
   "source": [
    "## 조건부 표현식\n",
    "- 한 줄로 조건식을 사용한 표현"
   ]
  },
  {
   "cell_type": "code",
   "execution_count": 4,
   "metadata": {},
   "outputs": [
    {
     "name": "stdout",
     "output_type": "stream",
     "text": [
      "fail\n"
     ]
    }
   ],
   "source": [
    "score = 65\n",
    "msg = \"pass\" if score >= 70 else \"fail\"\n",
    "print(msg)"
   ]
  },
  {
   "cell_type": "markdown",
   "metadata": {},
   "source": [
    "## if - pass\n",
    "- 조건문은 있지만 실행할 문장이 없는 경우, 오류가 발생하지 않도록 무시하고 넘어가는 기능"
   ]
  },
  {
   "cell_type": "code",
   "execution_count": 5,
   "metadata": {},
   "outputs": [
    {
     "name": "stdout",
     "output_type": "stream",
     "text": [
      "10\n"
     ]
    }
   ],
   "source": [
    "if 10 > 5:\n",
    "    print(10)\n",
    "else:\n",
    "    pass"
   ]
  },
  {
   "cell_type": "markdown",
   "metadata": {},
   "source": [
    "## 4.2 Lab: 어떤 종류의 학생인지 맞히기"
   ]
  },
  {
   "cell_type": "code",
   "execution_count": 6,
   "metadata": {},
   "outputs": [
    {
     "name": "stdout",
     "output_type": "stream",
     "text": [
      "당신이 태어난 연도를 입력하세요.\n",
      "2000\n",
      "대학생\n"
     ]
    }
   ],
   "source": [
    "# 코드 4-4 student.py\n",
    "print(\"당신이 태어난 연도를 입력하세요.\")\n",
    "birth_year = input()\n",
    "age = 2021 - int(birth_year) + 1\n",
    "\n",
    "if age<=26 and age>=20:\n",
    "    print(\"대학생\")\n",
    "elif age<20 and age>=17:\n",
    "    print(\"고등학생\")\n",
    "elif age<20 and age>=17:\n",
    "    print(\"중학생\")\n",
    "elif age<20 and age>=17:\n",
    "    print(\"초등학생\")\n",
    "else:\n",
    "    print(\"학생이 아닙니다.\")"
   ]
  },
  {
   "cell_type": "markdown",
   "metadata": {},
   "source": [
    "## 4.3 반복문"
   ]
  },
  {
   "cell_type": "markdown",
   "metadata": {},
   "source": [
    "### for문"
   ]
  },
  {
   "cell_type": "code",
   "execution_count": 7,
   "metadata": {},
   "outputs": [
    {
     "name": "stdout",
     "output_type": "stream",
     "text": [
      "hello\n",
      "hello\n",
      "hello\n",
      "hello\n",
      "hello\n"
     ]
    }
   ],
   "source": [
    "# 코드 4-5\n",
    "for looper in [1, 2, 3, 4, 5]:\n",
    "    print(\"hello\")"
   ]
  },
  {
   "cell_type": "code",
   "execution_count": 8,
   "metadata": {},
   "outputs": [
    {
     "name": "stdout",
     "output_type": "stream",
     "text": [
      "1\n",
      "2\n",
      "3\n",
      "4\n",
      "5\n"
     ]
    }
   ],
   "source": [
    "# 코드 4-6 \n",
    "for looper in [1, 2, 3, 4, 5]:\n",
    "    print(looper)"
   ]
  },
  {
   "cell_type": "code",
   "execution_count": 9,
   "metadata": {},
   "outputs": [
    {
     "name": "stdout",
     "output_type": "stream",
     "text": [
      "hello\n",
      "hello\n",
      "hello\n",
      "hello\n",
      "hello\n"
     ]
    }
   ],
   "source": [
    "# 코드 4-7\n",
    "for looper in range(5):\n",
    "    print(\"hello\")"
   ]
  },
  {
   "cell_type": "code",
   "execution_count": 10,
   "metadata": {},
   "outputs": [
    {
     "name": "stdout",
     "output_type": "stream",
     "text": [
      "a\n",
      "b\n",
      "c\n",
      "d\n",
      "e\n",
      "f\n",
      "g\n"
     ]
    }
   ],
   "source": [
    "# 코드 4-8\n",
    "for i in 'abcdefg':\n",
    "    print(i)"
   ]
  },
  {
   "cell_type": "code",
   "execution_count": 11,
   "metadata": {},
   "outputs": [
    {
     "name": "stdout",
     "output_type": "stream",
     "text": [
      "americano\n",
      "latte\n",
      "frappuccino\n"
     ]
    }
   ],
   "source": [
    "# 코드 4-9\n",
    "for i in ['americano', 'latte', 'frappuccino']:\n",
    "    print(i)"
   ]
  },
  {
   "cell_type": "code",
   "execution_count": 12,
   "metadata": {},
   "outputs": [
    {
     "name": "stdout",
     "output_type": "stream",
     "text": [
      "1\n",
      "3\n",
      "5\n",
      "7\n",
      "9\n"
     ]
    }
   ],
   "source": [
    "# 코드 4-10\n",
    "for i in range(1, 10, 2):\n",
    "    print(i)"
   ]
  },
  {
   "cell_type": "code",
   "execution_count": 13,
   "metadata": {},
   "outputs": [
    {
     "name": "stdout",
     "output_type": "stream",
     "text": [
      "10\n",
      "9\n",
      "8\n",
      "7\n",
      "6\n",
      "5\n",
      "4\n",
      "3\n",
      "2\n"
     ]
    }
   ],
   "source": [
    "# 코드 4-11 \n",
    "for i in range(10, 1, -1):\n",
    "    print(i)"
   ]
  },
  {
   "cell_type": "markdown",
   "metadata": {},
   "source": [
    "### while문"
   ]
  },
  {
   "cell_type": "code",
   "execution_count": 14,
   "metadata": {},
   "outputs": [
    {
     "name": "stdout",
     "output_type": "stream",
     "text": [
      "1\n",
      "2\n",
      "3\n",
      "4\n",
      "5\n",
      "6\n",
      "7\n",
      "8\n",
      "9\n"
     ]
    }
   ],
   "source": [
    "# 코드 4-12\n",
    "i = 1\n",
    "while i<10:\n",
    "    print(i)\n",
    "    i += 1"
   ]
  },
  {
   "cell_type": "code",
   "execution_count": 15,
   "metadata": {},
   "outputs": [
    {
     "name": "stdout",
     "output_type": "stream",
     "text": [
      "0\n",
      "1\n",
      "2\n",
      "3\n",
      "4\n",
      "End of Program\n"
     ]
    }
   ],
   "source": [
    "# 코드 4-13\n",
    "for i in range(10):\n",
    "    if i==5: break   # i == 5 일 때 for문 빠져나옴\n",
    "    print(i)\n",
    "print(\"End of Program\")"
   ]
  },
  {
   "cell_type": "code",
   "execution_count": 16,
   "metadata": {},
   "outputs": [
    {
     "name": "stdout",
     "output_type": "stream",
     "text": [
      "0\n",
      "1\n",
      "2\n",
      "3\n",
      "4\n",
      "6\n",
      "7\n",
      "8\n",
      "9\n",
      "End of Program\n"
     ]
    }
   ],
   "source": [
    "# 코드 4-14\n",
    "for i in range(10):\n",
    "    if i==5: continue   # i == 5 일 때에는 print(i)문장 실행하지 않음\n",
    "    print(i)\n",
    "print(\"End of Program\")"
   ]
  },
  {
   "cell_type": "code",
   "execution_count": 17,
   "metadata": {},
   "outputs": [
    {
     "name": "stdout",
     "output_type": "stream",
     "text": [
      "0\n",
      "1\n",
      "2\n",
      "3\n",
      "4\n",
      "5\n",
      "6\n",
      "7\n",
      "8\n",
      "9\n",
      "end of program\n"
     ]
    }
   ],
   "source": [
    "# 코드 4-15\n",
    "for i in range(10):\n",
    "    print(i)\n",
    "else:  # 해당 반복문이 중간에 종료 없이 완벽히 수행되었는지를 명시적으로 확인\n",
    "    print(\"end of program\")"
   ]
  },
  {
   "cell_type": "markdown",
   "metadata": {},
   "source": [
    "## 4.4 Lab : 구구단 계산기"
   ]
  },
  {
   "cell_type": "code",
   "execution_count": 18,
   "metadata": {},
   "outputs": [
    {
     "name": "stdout",
     "output_type": "stream",
     "text": [
      "구구단 몇 단을 계산할까?\n",
      "5\n",
      "구구단 5 단을 계산한다.\n",
      "5 x 1 = 5\n",
      "5 x 2 = 10\n",
      "5 x 3 = 15\n",
      "5 x 4 = 20\n",
      "5 x 5 = 25\n",
      "5 x 6 = 30\n",
      "5 x 7 = 35\n",
      "5 x 8 = 40\n",
      "5 x 9 = 45\n"
     ]
    }
   ],
   "source": [
    "# 코드 4-16 calculator1.py\n",
    "print(\"구구단 몇 단을 계산할까?\")\n",
    "user_input = input()\n",
    "print(\"구구단\", user_input, \"단을 계산한다.\")\n",
    "int_input = int(user_input)\n",
    "for i in range(1, 10):\n",
    "    result = int_input * i\n",
    "    print(user_input, \"x\", i, \"=\", result)"
   ]
  },
  {
   "cell_type": "markdown",
   "metadata": {},
   "source": [
    "## 4.5 조건문과 반복문 실습"
   ]
  },
  {
   "cell_type": "code",
   "execution_count": 19,
   "metadata": {},
   "outputs": [
    {
     "name": "stdout",
     "output_type": "stream",
     "text": [
      "uoy evol I\n"
     ]
    }
   ],
   "source": [
    "# 코드 4-17 reverse_sentence.py 문자열 역순 출력\n",
    "sentence = \"I love you\"\n",
    "reverse_sentence = ''\n",
    "for char in sentence:\n",
    "    reverse_sentence = char + reverse_sentence\n",
    "print(reverse_sentence)"
   ]
  },
  {
   "cell_type": "code",
   "execution_count": 20,
   "metadata": {},
   "outputs": [
    {
     "name": "stdout",
     "output_type": "stream",
     "text": [
      "1010\n"
     ]
    }
   ],
   "source": [
    "# 코드 4-18 decimal.py 십진수를 이진수로 변환 \n",
    "decimal = 10\n",
    "result = ''\n",
    "while (decimal > 0):\n",
    "    remainder = decimal % 2\n",
    "    decimal = decimal // 2\n",
    "    result = str(remainder) + result \n",
    "print(result)"
   ]
  },
  {
   "cell_type": "markdown",
   "metadata": {},
   "source": [
    "## 4.6 Lab: 숫자 찾기 게임"
   ]
  },
  {
   "cell_type": "code",
   "execution_count": 21,
   "metadata": {},
   "outputs": [
    {
     "name": "stdout",
     "output_type": "stream",
     "text": [
      "숫자를 맞혀 보세요. (1~100)\n",
      "80\n",
      "숫자가 너무 작습니다.\n",
      "90\n",
      "숫자가 너무 작습니다.\n",
      "92\n",
      "정답입니다. 입력한 숫자는 92 입니다.\n"
     ]
    }
   ],
   "source": [
    "# 코드 4-19 guess_number.py 숫자 찾기 게임\n",
    "import random #난수 발생 함수 호출\n",
    "guess_number = random.randint(1,100)\n",
    "print(\"숫자를 맞혀 보세요. (1~100)\")\n",
    "users_input = int(input())\n",
    "while(users_input is not guess_number):\n",
    "    if users_input > guess_number:\n",
    "        print(\"숫자가 너무 큽니다.\")\n",
    "    else:\n",
    "        print(\"숫자가 너무 작습니다.\")\n",
    "    users_input = int(input()) \n",
    "else:\n",
    "    print(\"정답입니다.\", \"입력한 숫자는\", users_input,\"입니다.\")"
   ]
  },
  {
   "cell_type": "markdown",
   "metadata": {},
   "source": [
    "## 4.7 Lab: 연속적인 구구단 계산기"
   ]
  },
  {
   "cell_type": "code",
   "execution_count": 22,
   "metadata": {},
   "outputs": [
    {
     "name": "stdout",
     "output_type": "stream",
     "text": [
      "구구단 몇 단을 계산할까요(1~9)?\n",
      "8\n",
      "구구단8단을 계산합니다.\n",
      "8x1=8\n",
      "8x2=16\n",
      "8x3=24\n",
      "8x4=32\n",
      "8x5=40\n",
      "8x6=48\n",
      "8x7=56\n",
      "8x8=64\n",
      "8x9=72\n",
      "구구단 몇 단을 계산할까요(1~9)?\n",
      "5\n",
      "구구단5단을 계산합니다.\n",
      "5x1=5\n",
      "5x2=10\n",
      "5x3=15\n",
      "5x4=20\n",
      "5x5=25\n",
      "5x6=30\n",
      "5x7=35\n",
      "5x8=40\n",
      "5x9=45\n",
      "구구단 몇 단을 계산할까요(1~9)?\n",
      "0\n",
      "구구단 게임을 종료합니다.\n"
     ]
    }
   ],
   "source": [
    "# 코드 4-20 calculator2.py 구구단 계산기\n",
    "# 숫자 0 입력시 종료\n",
    "print(\"구구단 몇 단을 계산할까요(1~9)?\")\n",
    "x = 1\n",
    "while (x != 0):\n",
    "    x = int(input())\n",
    "    if x==0: break\n",
    "    if not(1 <= x <= 9):\n",
    "        print(\"잘못 입력했습니다.\", \" 1부터 9 사이 숫자를 입력하세요.\")\n",
    "        continue\n",
    "    else:\n",
    "        print(\"구구단\"+str(x)+\"단을 계산합니다.\")\n",
    "        for i in range(1,10):\n",
    "            print(str(x) + \"x\" + str(i) + \"=\" + str(x*i))\n",
    "        print(\"구구단 몇 단을 계산할까요(1~9)?\")\n",
    "print(\"구구단 게임을 종료합니다.\")"
   ]
  },
  {
   "cell_type": "markdown",
   "metadata": {},
   "source": [
    "## 4.8 Lab: 평균 구하기"
   ]
  },
  {
   "cell_type": "code",
   "execution_count": 23,
   "metadata": {},
   "outputs": [
    {
     "name": "stdout",
     "output_type": "stream",
     "text": [
      "[47.0, 74.0, 51.0, 60.0, 90.0]\n"
     ]
    }
   ],
   "source": [
    "# 코드 4-21 average.py \n",
    "# 이차원 리스트에 있는 값들의 평균을 구하는 프로그램 \n",
    "kor_score = [49, 80, 20, 100, 80]\n",
    "math_score = [43, 60, 85, 30, 90]\n",
    "eng_score = [49, 82, 48, 50, 100]\n",
    "midterm_score = [kor_score, math_score, eng_score]\n",
    "\n",
    "student_score = [0, 0, 0, 0, 0]\n",
    "i = 0\n",
    "for subject in midterm_score:\n",
    "    for score in subject:\n",
    "        student_score[i] += score  # 학생마다 개별로 교과 점수를 저장\n",
    "        i += 1                     # 학생 인덱스 구분\n",
    "    i = 0                          # 교과목이 바뀔 때 학생 인덱스 초기화 \n",
    "else:\n",
    "    a, b, c, d, e = student_score  # 학생별 점수를 언패킹\n",
    "    student_average = [a/3, b/3, c/3, d/3, e/3]\n",
    "    print(student_average)"
   ]
  },
  {
   "cell_type": "markdown",
   "metadata": {},
   "source": [
    "## 연습문제"
   ]
  },
  {
   "cell_type": "code",
   "execution_count": 24,
   "metadata": {},
   "outputs": [],
   "source": [
    "# 1 \n",
    "def calculator(N):\n",
    "    if N % 2 == 0:\n",
    "        result = 1\n",
    "        for i in range(1, N+1):\n",
    "            result = result * i\n",
    "    else:\n",
    "        result = 0\n",
    "        for i in range(1, N+1):\n",
    "            result = result + i\n",
    "    return result"
   ]
  },
  {
   "cell_type": "code",
   "execution_count": 25,
   "metadata": {},
   "outputs": [
    {
     "name": "stdout",
     "output_type": "stream",
     "text": [
      "24 15\n"
     ]
    }
   ],
   "source": [
    "print(calculator(4), calculator(5))"
   ]
  },
  {
   "cell_type": "code",
   "execution_count": 26,
   "metadata": {},
   "outputs": [
    {
     "name": "stdout",
     "output_type": "stream",
     "text": [
      "apple\n"
     ]
    }
   ],
   "source": [
    "# 2 \n",
    "fruit = 'apple'\n",
    "if fruit == 'Apple':\n",
    "    fruit = 'Apple'\n",
    "elif fruit == 'fruit':\n",
    "    fruit = 'fruit'\n",
    "else:\n",
    "    fruit = fruit\n",
    "print(fruit)"
   ]
  },
  {
   "cell_type": "code",
   "execution_count": 27,
   "metadata": {},
   "outputs": [
    {
     "name": "stdout",
     "output_type": "stream",
     "text": [
      "['12', '34', '56']\n"
     ]
    }
   ],
   "source": [
    "# 3 \n",
    "num = ['12', '34', '56']\n",
    "for i in num:\n",
    "    i = int(i)\n",
    "print(num)"
   ]
  },
  {
   "cell_type": "code",
   "execution_count": 28,
   "metadata": {},
   "outputs": [
    {
     "name": "stdout",
     "output_type": "stream",
     "text": [
      "[3, 4.0]\n"
     ]
    }
   ],
   "source": [
    "# 4\n",
    "number = [\"1\", 2, 3, float(4), str(5)]\n",
    "if number[4] == 5:\n",
    "    print(type(number[0]))\n",
    "elif number[3] == 4:\n",
    "    print(number[2:-1])"
   ]
  },
  {
   "cell_type": "code",
   "execution_count": 29,
   "metadata": {},
   "outputs": [
    {
     "name": "stdout",
     "output_type": "stream",
     "text": [
      "5\n"
     ]
    }
   ],
   "source": [
    "# 5 \n",
    "num = 0\n",
    "i = 1 \n",
    "\n",
    "while i < 8:\n",
    "    if i % 3 == 0:\n",
    "        break\n",
    "    i += 1\n",
    "    num += i\n",
    "print(num)"
   ]
  },
  {
   "cell_type": "code",
   "execution_count": 30,
   "metadata": {},
   "outputs": [
    {
     "name": "stdout",
     "output_type": "stream",
     "text": [
      "-5\n"
     ]
    }
   ],
   "source": [
    "# 6\n",
    "result = 0 \n",
    "for i in range(5, -5, -2):\n",
    "    if i < -3:\n",
    "        result += 1\n",
    "    else: \n",
    "        result -= 1\n",
    "print(result)"
   ]
  },
  {
   "cell_type": "code",
   "execution_count": 31,
   "metadata": {},
   "outputs": [
    {
     "name": "stdout",
     "output_type": "stream",
     "text": [
      "0\n"
     ]
    }
   ],
   "source": [
    "# 8\n",
    "first_value = 0\n",
    "second_value = 0\n",
    "for i in range(1,10):\n",
    "    if i == 5:\n",
    "        continue\n",
    "        first_value = i\n",
    "    if i == 10:\n",
    "        break\n",
    "        second_value = i\n",
    "print(first_value + second_value)"
   ]
  },
  {
   "cell_type": "code",
   "execution_count": 32,
   "metadata": {},
   "outputs": [
    {
     "name": "stdout",
     "output_type": "stream",
     "text": [
      "986531\n"
     ]
    }
   ],
   "source": [
    "# 9\n",
    "num = \"\"\n",
    "for i in range(10):\n",
    "    if i <= 5 and (i%2)==0:\n",
    "        continue\n",
    "    elif i==7 or i==10:\n",
    "        continue\n",
    "    else:\n",
    "        num = str(i) + num\n",
    "print(num)"
   ]
  },
  {
   "cell_type": "code",
   "execution_count": 33,
   "metadata": {},
   "outputs": [
    {
     "name": "stdout",
     "output_type": "stream",
     "text": [
      "Hire more workers\n",
      "Hire more workers\n"
     ]
    }
   ],
   "source": [
    "# 10\n",
    "def work_status(task,worker,day):\n",
    "    rest_task = task\n",
    "    for k in range(day):\n",
    "        if rest_task >0:\n",
    "            rest_task = rest_task-worker\n",
    "        elif rest_task <=0:\n",
    "            print(\"Task end\")\n",
    "    if rest_task > 0:\n",
    "        print(\"Hire more workers\")\n",
    "\n",
    "\n",
    "work_status(100, 11, 10)\n",
    "work_status(100, 1, 10)\n",
    "work_status(100, 9, 10)\n",
    "work_status(100, 10, 10)"
   ]
  },
  {
   "cell_type": "code",
   "execution_count": 34,
   "metadata": {},
   "outputs": [
    {
     "name": "stdout",
     "output_type": "stream",
     "text": [
      "45\n"
     ]
    }
   ],
   "source": [
    "# 11\n",
    "score_list = [5, 10, 15, 20, 25, 30]\n",
    "\n",
    "sum_of_score = 0\n",
    "i = 0\n",
    "while i<len(score_list):\n",
    "    if i%2 == 0:\n",
    "        sum_of_score += score_list[i]\n",
    "    i += 1\n",
    "print(sum_of_score)"
   ]
  },
  {
   "cell_type": "code",
   "execution_count": 35,
   "metadata": {},
   "outputs": [
    {
     "name": "stdout",
     "output_type": "stream",
     "text": [
      "2600\n"
     ]
    }
   ],
   "source": [
    "# 12\n",
    "coupon = 0\n",
    "money = 200000\n",
    "coffee = 3500\n",
    "while money > coffee:\n",
    "    if coupon < 4:\n",
    "        money = money - coffee\n",
    "        coupon +=1\n",
    "    else:\n",
    "        money +=2800\n",
    "        coupon =0\n",
    "print(money)"
   ]
  },
  {
   "cell_type": "code",
   "execution_count": 36,
   "metadata": {},
   "outputs": [
    {
     "name": "stdout",
     "output_type": "stream",
     "text": [
      "Strike: 0  Ball: 3\n"
     ]
    }
   ],
   "source": [
    "# 13 수정한 코드 \n",
    "a = \"369\"\n",
    "b = \"693\"\n",
    "\n",
    "strike = 0\n",
    "ball = 0\n",
    "\n",
    "for number in a:\n",
    "    if b.count(number) == 1:    # 해당 문자가 존재하고\n",
    "        if b.find(number) == a.find(number):  # 위치도 같으면 \n",
    "            strike += 1\n",
    "        else:\n",
    "            ball += 1\n",
    "print(\"Strike:\",strike, \" Ball:\", ball)"
   ]
  },
  {
   "cell_type": "markdown",
   "metadata": {},
   "source": [
    "#### string.count(x)\n",
    "string 문자열에 x가 몇개 포함되어 있는지 계산"
   ]
  },
  {
   "cell_type": "code",
   "execution_count": 37,
   "metadata": {},
   "outputs": [
    {
     "name": "stdout",
     "output_type": "stream",
     "text": [
      "2\n",
      "4\n",
      "1\n"
     ]
    }
   ],
   "source": [
    "# count 예제\n",
    "a = \"Hello, everyone!\"\n",
    "print(a.count(\"o\"))\n",
    "print(a.count(\"e\"))\n",
    "print(a.count(\"ll\"))"
   ]
  },
  {
   "cell_type": "markdown",
   "metadata": {},
   "source": [
    "#### string.find(x)\n",
    "string 문자열에 x가 몇 번 인덱스에 있는지 찾음"
   ]
  },
  {
   "cell_type": "code",
   "execution_count": 38,
   "metadata": {},
   "outputs": [
    {
     "name": "stdout",
     "output_type": "stream",
     "text": [
      "4\n",
      "-1\n"
     ]
    }
   ],
   "source": [
    "# find 예제 \n",
    "print(a.find(\"o\"))\n",
    "print(a.find(\"h\"))   # 존재하지 않는 경우에는 -1을 반환 "
   ]
  },
  {
   "cell_type": "code",
   "execution_count": 39,
   "metadata": {},
   "outputs": [
    {
     "name": "stdout",
     "output_type": "stream",
     "text": [
      "6\n"
     ]
    }
   ],
   "source": [
    "# 14 \n",
    "list_data_a = [1, 2]\n",
    "list_data_b = [3, 4]\n",
    "\n",
    "for i in list_data_a:\n",
    "    for j in list_data_b:\n",
    "        result = i + j\n",
    "print(result)"
   ]
  },
  {
   "cell_type": "code",
   "execution_count": 40,
   "metadata": {},
   "outputs": [
    {
     "name": "stdout",
     "output_type": "stream",
     "text": [
      "[1, 2, 3, 4, 5, 6]\n"
     ]
    }
   ],
   "source": [
    "# 15\n",
    "list_1 = [[1,2], [3], [4,5,6]]\n",
    "a,b,c = list_1\n",
    "list_2 = a + b + c\n",
    "\n",
    "print(list_2)"
   ]
  }
 ],
 "metadata": {
  "kernelspec": {
   "display_name": "Python 3",
   "language": "python",
   "name": "python3"
  },
  "language_info": {
   "codemirror_mode": {
    "name": "ipython",
    "version": 3
   },
   "file_extension": ".py",
   "mimetype": "text/x-python",
   "name": "python",
   "nbconvert_exporter": "python",
   "pygments_lexer": "ipython3",
   "version": "3.8.5"
  }
 },
 "nbformat": 4,
 "nbformat_minor": 4
}
